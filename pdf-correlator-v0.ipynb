{
 "cells": [
  {
   "cell_type": "code",
   "execution_count": 6,
   "id": "9b4dacbe",
   "metadata": {},
   "outputs": [],
   "source": [
    "import os, glob\n",
    "import numpy as np\n",
    "import random\n",
    "import io\n",
    "\n",
    "from PyPDF2 import PdfReader\n",
    "from tensorflow import keras\n",
    "from keras.layers import LSTM, Dropout, Dense\n",
    "from tensorflow.python.keras import Input\n",
    "from tensorflow.python.keras.models import Sequential\n",
    "from tensorflow.python.keras.optimizer_v2.rmsprop import RMSprop"
   ]
  },
  {
   "cell_type": "code",
   "execution_count": 7,
   "id": "36b7f821",
   "metadata": {},
   "outputs": [],
   "source": [
    "# reader = PdfReader(\"test.pdf\")\n",
    "pdfReaders = []\n",
    "pdfFiles = []\n",
    "\n"
   ]
  },
  {
   "cell_type": "code",
   "execution_count": 8,
   "id": "abe4ebaa",
   "metadata": {},
   "outputs": [],
   "source": [
    "# read files and extract to .txt files\n",
    "def read_files():\n",
    "    os.chdir(\"/Users/tillman/t-root/dev/projects/2022/pdf-correlator/gitignored\")\n",
    "    for file in glob.glob(\"**/*.pdf\"):\n",
    "        pdfFiles.append(file)\n",
    "        pdfReaders.append(PdfReader(file))\n",
    "    print(\"pdf files read\")\n",
    "        \n",
    "def extract_to_txt():\n",
    "    os.chdir(\"/Users/tillman/t-root/dev/projects/2022/pdf-correlator/gitignored/txt-extractions/\")\n",
    "    for i in pdfReaders:\n",
    "        with open(i.metadata.title + \".txt\", 'w', encoding=\"utf-8\") as file:\n",
    "            for j in range(0, len(i.pages)):\n",
    "                file.write(i.getPage(j).extract_text())\n",
    "    print(\"text extraction complete\")\n",
    "\n",
    "\n"
   ]
  },
  {
   "cell_type": "code",
   "execution_count": 9,
   "id": "6fd61ce0",
   "metadata": {},
   "outputs": [
    {
     "name": "stdout",
     "output_type": "stream",
     "text": [
      "pdf files read\n"
     ]
    }
   ],
   "source": [
    "read_files()"
   ]
  },
  {
   "cell_type": "code",
   "execution_count": 10,
   "id": "44151d03",
   "metadata": {},
   "outputs": [
    {
     "name": "stdout",
     "output_type": "stream",
     "text": [
      "text extraction complete\n"
     ]
    }
   ],
   "source": [
    "extract_to_txt()"
   ]
  },
  {
   "cell_type": "code",
   "execution_count": null,
   "id": "326e80cc",
   "metadata": {},
   "outputs": [],
   "source": []
  },
  {
   "cell_type": "code",
   "execution_count": null,
   "id": "a791a454",
   "metadata": {},
   "outputs": [],
   "source": []
  },
  {
   "cell_type": "code",
   "execution_count": null,
   "id": "231d308a",
   "metadata": {},
   "outputs": [],
   "source": []
  }
 ],
 "metadata": {
  "kernelspec": {
   "display_name": "Python 3 (ipykernel)",
   "language": "python",
   "name": "python3"
  },
  "language_info": {
   "codemirror_mode": {
    "name": "ipython",
    "version": 3
   },
   "file_extension": ".py",
   "mimetype": "text/x-python",
   "name": "python",
   "nbconvert_exporter": "python",
   "pygments_lexer": "ipython3",
   "version": "3.10.6"
  }
 },
 "nbformat": 4,
 "nbformat_minor": 5
}
