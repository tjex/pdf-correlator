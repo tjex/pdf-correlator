{
 "cells": [
  {
   "cell_type": "code",
   "execution_count": 1,
   "id": "2be4fc2b",
   "metadata": {},
   "outputs": [],
   "source": [
    "import os, glob, re, io, random, gensim\n",
    "import numpy as np\n",
    "\n",
    "from PyPDF2 import PdfReader\n",
    "from gensim.models.doc2vec import Doc2Vec, TaggedDocument\n",
    "from nltk.tokenize import word_tokenize\n"
   ]
  },
  {
   "cell_type": "code",
   "execution_count": 2,
   "id": "bbe3607a",
   "metadata": {},
   "outputs": [],
   "source": [
    "pdfReaders = []\n",
    "pdfFiles = []\n",
    "data = []\n",
    "docLabels = []"
   ]
  },
  {
   "cell_type": "code",
   "execution_count": null,
   "id": "e152ac18",
   "metadata": {},
   "outputs": [],
   "source": [
    "# read files and extract to .txt files\n",
    "def read_files():\n",
    "    os.chdir(\"/Users/tillman/t-root/dev/projects/2022/pdf-correlator/gitignored\")\n",
    "    for file in glob.glob(\"**/*.pdf\"):\n",
    "        pdfFiles.append(file)\n",
    "        pdfReaders.append(PdfReader(file))\n",
    "    print(\"pdf files read\")\n",
    "        \n",
    "def extract_to_txt():\n",
    "    os.chdir(\"/Users/tillman/t-root/dev/projects/2022/pdf-correlator/gitignored/txt-extractions/\")\n",
    "    for i in pdfReaders:\n",
    "        with open(i.metadata.title + \".txt\", 'w', encoding=\"utf-8\") as file:\n",
    "            for j in range(0, len(i.pages)):\n",
    "                # not very effective cleaning\n",
    "                text = i.getPage(j).extract_text()\n",
    "                text = text.replace(\"\\n\", \" \")\n",
    "                text = text.replace(\"  \", \" \")\n",
    "                text = text.lower()\n",
    "                text = ''.join([i for i in text if i.isalpha() or i.isspace() or (i in '.!?:\"')])\n",
    "                text = text.replace(\".\", \" . \")\n",
    "                text = text.replace(\"!\", \" ! \")\n",
    "                text = text.replace(\"?\", \" ? \")\n",
    "                text = text.replace(\":\", \" : \")\n",
    "                text = text.replace('\"', ' \" ')\n",
    "                text = text.split()\n",
    "                \n",
    "#                 print(str(text))\n",
    "                # create a text file for future reference / future use\n",
    "                file.write(str(text))\n",
    "                \n",
    "    print(\"text extraction complete\")\n",
    "    \n",
    "def ()\n"
   ]
  },
  {
   "cell_type": "code",
   "execution_count": null,
   "id": "1bb97e46",
   "metadata": {},
   "outputs": [],
   "source": [
    "read_files()"
   ]
  },
  {
   "cell_type": "code",
   "execution_count": null,
   "id": "cd81c396",
   "metadata": {},
   "outputs": [],
   "source": [
    "extract_to_txt()"
   ]
  },
  {
   "cell_type": "code",
   "execution_count": null,
   "id": "a1f9c437",
   "metadata": {},
   "outputs": [],
   "source": [
    "# clean "
   ]
  }
 ],
 "metadata": {
  "kernelspec": {
   "display_name": "Python 3 (ipykernel)",
   "language": "python",
   "name": "python3"
  },
  "language_info": {
   "codemirror_mode": {
    "name": "ipython",
    "version": 3
   },
   "file_extension": ".py",
   "mimetype": "text/x-python",
   "name": "python",
   "nbconvert_exporter": "python",
   "pygments_lexer": "ipython3",
   "version": "3.10.6"
  }
 },
 "nbformat": 4,
 "nbformat_minor": 5
}
