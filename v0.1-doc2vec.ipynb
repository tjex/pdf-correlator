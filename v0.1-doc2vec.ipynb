{
 "cells": [
  {
   "cell_type": "code",
   "execution_count": 3,
   "id": "2be4fc2b",
   "metadata": {},
   "outputs": [],
   "source": [
    "import os, glob, re, io, random, gensim, smart_open, logging\n",
    "import numpy as np\n",
    "\n",
    "from PyPDF2 import PdfReader\n",
    "from pdfminer.high_level import extract_text as fallback_text_extraction\n",
    "from pdfminer.high_level import extract_text_to_fp\n",
    "from pdfminer.layout import LAParams\n",
    "from gensim.models.doc2vec import Doc2Vec, TaggedDocument\n",
    "from gensim.test.utils import get_tmpfile\n",
    "from nltk.tokenize import word_tokenize\n"
   ]
  },
  {
   "cell_type": "code",
   "execution_count": 4,
   "id": "bbe3607a",
   "metadata": {},
   "outputs": [],
   "source": [
    "pdfReaders = []\n",
    "pdfFiles = []\n",
    "docLabels = []\n",
    "\n",
    "# taggedData = []\n",
    "# wordSets = []\n",
    "\n",
    "logging.basicConfig(format='%(asctime)s : %(levelname)s : %(message)s', level=logging.INFO)\n",
    "rootDir = \"/Users/tillman/t-root/dev/projects/2022/pdf-correlator/gitignored\"\n",
    "txtExtractDir = \"/Users/tillman/t-root/dev/projects/2022/pdf-correlator/gitignored/txt-extractions/\"\n",
    "zoteroDir = '/Users/tillman/t-root/zotero/storage'\n",
    "\n"
   ]
  },
  {
   "cell_type": "code",
   "execution_count": 5,
   "id": "e152ac18",
   "metadata": {},
   "outputs": [
    {
     "name": "stdout",
     "output_type": "stream",
     "text": [
      "!exception found!\n",
      "pdf files read\n"
     ]
    }
   ],
   "source": [
    "# read files\n",
    "def read_files():\n",
    "    os.chdir(rootDir)\n",
    "    for file in glob.glob(\"**/*.pdf\"):\n",
    "        try: \n",
    "            pdfFiles.append(file)\n",
    "            pdfReaders.append(PdfReader(file))\n",
    "        except:\n",
    "            print(\"!exception found!\")\n",
    "#             return\n",
    "    print(\"pdf files read\")\n",
    "            \n",
    "read_files()"
   ]
  },
  {
   "cell_type": "code",
   "execution_count": 6,
   "id": "1bb97e46",
   "metadata": {
    "scrolled": true
   },
   "outputs": [],
   "source": [
    "# def extract_to_txt():\n",
    "#     os.chdir(txtExtractDir)\n",
    "#     text = \"\"\n",
    "#     counter = 0\n",
    "#     for i in pdfReaders:\n",
    "#         counter =+ 1\n",
    "#         with open(rootDir + '/' + i, 'rb') as f:\n",
    "            \n",
    "#             extract_text_to_fp(f, outputString, output_type='text')\n",
    "\n",
    "        \n",
    "#     with open(\"corpus.txt\", 'w', encoding=\"utf-8\") as corpus:\n",
    "#         outputString.seek(0)\n",
    "#         shutil.copyfileobj(outputString, corpus)\n",
    "\n",
    "\n",
    "# extract_to_txt()\n",
    "\n"
   ]
  },
  {
   "cell_type": "code",
   "execution_count": null,
   "id": "aab4cde4",
   "metadata": {},
   "outputs": [],
   "source": []
  },
  {
   "cell_type": "code",
   "execution_count": 7,
   "id": "6d0cb30c",
   "metadata": {},
   "outputs": [],
   "source": [
    "# def extract_to_txt():\n",
    "#     os.chdir(txtExtractDir)\n",
    "#     text = \"\"\n",
    "#     counter = 0\n",
    "#     laparams = LAParams(char_margin=20.0)\n",
    "#     outputString = StringIO()\n",
    "#     for i in pdfReaders:\n",
    "#         counter =+ 1\n",
    "#         with open(\"corpus.txt\", 'w', encoding=\"utf-8\") as corpus:\n",
    "            \n",
    "#             # add doc title to array for reference / tagging\n",
    "#             docLabels.append(i.metadata.title)\n",
    "#             print(i.metadata.title)\n",
    "#             text += fallback_text_extraction(rootDir + \"/\" + pdfFiles[counter], laparams)\n",
    "#             corpus.write(text)   \n",
    "            \n",
    "\n",
    "\n",
    "# extract_to_txt()"
   ]
  },
  {
   "cell_type": "code",
   "execution_count": 8,
   "id": "e1153293",
   "metadata": {},
   "outputs": [],
   "source": [
    "# def extract_to_txt():\n",
    "#     os.chdir(txtExtractDir)\n",
    "#     text = \"\"\n",
    "#     counter = 0\n",
    "#     for i in pdfReaders:\n",
    "#         counter =+ 1\n",
    "#         with open(\"corpus.txt\", 'w', encoding=\"utf-8\") as corpus:\n",
    "            \n",
    "#             # add doc title to array for reference / tagging\n",
    "#             docLabels.append(i.metadata.title)\n",
    "#             print(i.metadata.title)\n",
    "#             for j in range(len(i.pages)):\n",
    "#                 try: \n",
    "#                     text += i.getPage(j).extract_text()\n",
    "# #                     text += re.sub('.\\n', '')\n",
    "        \n",
    "#                 except:\n",
    "#                     # format txt file so that each line is one sentence (doc2vec requirement)\n",
    "#                     print(\"err1: >> pdfminer attempt\")\n",
    "#                     print(rootDir + \"/\" + pdfFiles[counter])\n",
    "#                     text += fallback_text_extraction(rootDir + \"/\" + pdfFiles[counter])\n",
    "\n",
    "                    \n",
    "#             corpus.write(text)   \n",
    "\n",
    "# extract_to_txt()"
   ]
  },
  {
   "cell_type": "code",
   "execution_count": 9,
   "id": "b3bffe31",
   "metadata": {},
   "outputs": [
    {
     "name": "stdout",
     "output_type": "stream",
     "text": [
      "1\n",
      "pone.0099019 1..8\n",
      "2\n",
      "None\n",
      "3\n",
      "User attention and behaviour in virtual reality art encounter\n",
      "4\n",
      "Microsoft Word - CHI2018_LucidDreaming_v5.docx\n",
      "5\n",
      "Microsoft Word - 48710116.DOC\n",
      "6\n",
      "frvir-2022-779148 1..5\n",
      "7\n",
      "Making Art Therapy Virtual: Integrating Virtual Reality Into Art Therapy With Adolescents\n",
      "8\n",
      "None\n",
      "9\n",
      "Making Art Therapy Virtual: Integrating Virtual Reality Into Art Therapy With Adolescents\n",
      "10\n",
      "ShareVR: Enabling Co-Located Experiences for Virtual Reality between HMD and Non-HMD Users\n",
      "11\n",
      "None\n",
      ">>>>> exception\n",
      "12\n",
      "The effects of visual context and individual differences on perception and evaluation of modern art and graffiti art\n",
      "13\n",
      "IAFOR Journal of Cultural Studies – Volume 6 – Issue 1 \n",
      "14\n",
      "g5grap.lo\n",
      "15\n",
      "User attention and behaviour in virtual reality art encounter\n",
      "16\n",
      "ShareVR: Enabling Co-Located Experiences for Virtual Reality between HMD and Non-HMD Users\n"
     ]
    }
   ],
   "source": [
    "# ======== OLD CODE SPLITING BY SENTENCE\n",
    "\n",
    "def extract_to_txt():\n",
    "    os.chdir(txtExtractDir)\n",
    "    pat0 = ('(?<!Dr)(?<!Esq)\\. +(?=[A-Z])')\n",
    "    pat1 = ('\\.+(?=[A-Z])')\n",
    "    pat2 = ('\\.+(?=[0-9])')\n",
    "    pat3 = ('\\. +(?=[0-9])')\n",
    "    pat4 = ('(?=[for a of the and to in])')\n",
    "    \n",
    "    patterns = [pat0, pat1, pat2, pat3, pat4]\n",
    "    counter = 0\n",
    "    text = \"\"\n",
    "    for i in pdfReaders:\n",
    "        counter += 1\n",
    "        print(counter)\n",
    "        with open(str([i.metadata.title]) + \".txt\", 'w', encoding=\"utf-8\") as file:\n",
    "            \n",
    "            # add doc title to array for reference / tagging\n",
    "            docLabels.append(i.metadata.title)\n",
    "            print(i.metadata.title)\n",
    "            try:\n",
    "                for j in range(len(i.pages)):\n",
    "                    # format txt file so that each line is one sentence (doc2vec requirement)\n",
    "                    text += i.getPage(j).extract_text()\n",
    "                    text = re.sub(patterns[0], '.\\n', text)\n",
    "                    text = re.sub(patterns[1], '.\\n', text)\n",
    "                    text = re.sub(patterns[2], '.\\n', text)\n",
    "                    text = re.sub(patterns[3], '.\\n', text)\n",
    "                    text = re.sub(patterns[4], '', text)\n",
    "                  \n",
    "                    \n",
    "            except Exception as exc:\n",
    "                    print(\">>>>> exception\")\n",
    "                    # format txt file so that each line is one sentence (doc2vec requirement)\n",
    "                    text += fallback_text_extraction(rootDir + \"/\" + pdfFiles[counter])\n",
    "                    text = re.sub(patterns[0], '.\\n', text)\n",
    "                    text = re.sub(patterns[1], '.\\n', text)\n",
    "                    text = re.sub(patterns[2], '.\\n', text)\n",
    "                    text = re.sub(patterns[3], '.\\n', text)\n",
    "                    text = re.sub(patterns[4], '', text)\n",
    "            file.write(text)   \n",
    "\n",
    "\n",
    "extract_to_txt()\n",
    "\n",
    "\n"
   ]
  },
  {
   "cell_type": "code",
   "execution_count": 10,
   "id": "cd81c396",
   "metadata": {},
   "outputs": [],
   "source": [
    "class CorpusGen(object):\n",
    "    def __init__(self, dirname):\n",
    "        self.dirname = dirname\n",
    " \n",
    "    def __iter__(self, tokens_only=False):\n",
    "        for fname in os.listdir(self.dirname):\n",
    "            with smart_open.open(fname, encoding=\"iso-8859-1\") as f:\n",
    "                for i, line in enumerate(f):\n",
    "                    tokens = gensim.utils.simple_preprocess(line, min_len=3, max_len=15, deacc=True)\n",
    "                    if tokens_only:\n",
    "                        yield tokens\n",
    "                    else:\n",
    "                        yield gensim.models.doc2vec.TaggedDocument(tokens, [i])\n",
    "\n",
    "trainCorpus = list(CorpusGen('/Users/tillman/t-root/dev/projects/2022/pdf-correlator/gitignored/txt-extractions'))\n",
    "\n",
    "\n"
   ]
  },
  {
   "cell_type": "code",
   "execution_count": null,
   "id": "41433a9e",
   "metadata": {},
   "outputs": [],
   "source": []
  },
  {
   "cell_type": "code",
   "execution_count": null,
   "id": "caab7dac",
   "metadata": {},
   "outputs": [],
   "source": []
  },
  {
   "cell_type": "code",
   "execution_count": null,
   "id": "a1f9c437",
   "metadata": {
    "scrolled": true
   },
   "outputs": [],
   "source": []
  },
  {
   "cell_type": "code",
   "execution_count": null,
   "id": "6c2c03d5",
   "metadata": {
    "scrolled": true
   },
   "outputs": [],
   "source": []
  },
  {
   "cell_type": "code",
   "execution_count": 11,
   "id": "23b3586e",
   "metadata": {
    "scrolled": true
   },
   "outputs": [
    {
     "name": "stderr",
     "output_type": "stream",
     "text": [
      "2022-09-28 10:56:44,849 : INFO : Doc2Vec lifecycle event {'params': 'Doc2Vec<dm/m,d50,n5,w5,s0.001,t3>', 'datetime': '2022-09-28T10:56:44.849206', 'gensim': '4.2.0', 'python': '3.10.6 | packaged by conda-forge | (main, Aug 22 2022, 20:41:22) [Clang 13.0.1 ]', 'platform': 'macOS-12.0.1-arm64-arm-64bit', 'event': 'created'}\n",
      "2022-09-28 10:56:44,850 : INFO : collecting all words and their counts\n",
      "2022-09-28 10:56:44,852 : INFO : PROGRESS: at example #0, processed 0 words (0 words/s), 0 word types, 0 tags\n",
      "2022-09-28 10:56:44,875 : INFO : PROGRESS: at example #10000, processed 60354 words (2751602 words/s), 9234 word types, 0 tags\n",
      "2022-09-28 10:56:44,889 : INFO : PROGRESS: at example #20000, processed 130931 words (4927515 words/s), 10754 word types, 0 tags\n",
      "2022-09-28 10:56:44,901 : INFO : PROGRESS: at example #30000, processed 179158 words (4286272 words/s), 10754 word types, 0 tags\n",
      "2022-09-28 10:56:44,914 : INFO : PROGRESS: at example #40000, processed 245911 words (5293148 words/s), 11291 word types, 0 tags\n",
      "2022-09-28 10:56:44,925 : INFO : PROGRESS: at example #50000, processed 294454 words (4909118 words/s), 11291 word types, 0 tags\n",
      "2022-09-28 10:56:44,935 : INFO : PROGRESS: at example #60000, processed 346362 words (5417923 words/s), 11291 word types, 0 tags\n",
      "2022-09-28 10:56:44,946 : INFO : PROGRESS: at example #70000, processed 424962 words (7003059 words/s), 11291 word types, 0 tags\n",
      "2022-09-28 10:56:44,957 : INFO : PROGRESS: at example #80000, processed 496782 words (7083102 words/s), 11291 word types, 0 tags\n",
      "2022-09-28 10:56:44,966 : INFO : PROGRESS: at example #90000, processed 548017 words (5933868 words/s), 11291 word types, 0 tags\n",
      "2022-09-28 10:56:44,976 : INFO : PROGRESS: at example #100000, processed 609388 words (6509497 words/s), 11292 word types, 0 tags\n",
      "2022-09-28 10:56:45,056 : INFO : collected 11305 word types and 17353 unique tags from a corpus of 104043 examples and 1562088 words\n",
      "2022-09-28 10:56:45,057 : INFO : Creating a fresh vocabulary\n",
      "2022-09-28 10:56:45,074 : INFO : Doc2Vec lifecycle event {'msg': 'effective_min_count=1 retains 11305 unique words (100.00% of original 11305, drops 0)', 'datetime': '2022-09-28T10:56:45.074405', 'gensim': '4.2.0', 'python': '3.10.6 | packaged by conda-forge | (main, Aug 22 2022, 20:41:22) [Clang 13.0.1 ]', 'platform': 'macOS-12.0.1-arm64-arm-64bit', 'event': 'prepare_vocab'}\n",
      "2022-09-28 10:56:45,074 : INFO : Doc2Vec lifecycle event {'msg': 'effective_min_count=1 leaves 1562088 word corpus (100.00% of original 1562088, drops 0)', 'datetime': '2022-09-28T10:56:45.074718', 'gensim': '4.2.0', 'python': '3.10.6 | packaged by conda-forge | (main, Aug 22 2022, 20:41:22) [Clang 13.0.1 ]', 'platform': 'macOS-12.0.1-arm64-arm-64bit', 'event': 'prepare_vocab'}\n",
      "2022-09-28 10:56:45,096 : INFO : deleting the raw counts dictionary of 11305 items\n",
      "2022-09-28 10:56:45,097 : INFO : sample=0.001 downsamples 27 most-common words\n",
      "2022-09-28 10:56:45,097 : INFO : Doc2Vec lifecycle event {'msg': 'downsampling leaves estimated 1132288.5713510339 word corpus (72.5%% of prior 1562088)', 'datetime': '2022-09-28T10:56:45.097353', 'gensim': '4.2.0', 'python': '3.10.6 | packaged by conda-forge | (main, Aug 22 2022, 20:41:22) [Clang 13.0.1 ]', 'platform': 'macOS-12.0.1-arm64-arm-64bit', 'event': 'prepare_vocab'}\n",
      "2022-09-28 10:56:45,134 : INFO : estimated required memory for 11305 words and 50 dimensions: 17115700 bytes\n",
      "2022-09-28 10:56:45,134 : INFO : resetting layer weights\n"
     ]
    }
   ],
   "source": [
    "# establish a model and build the vocab\n",
    "\n",
    "model = gensim.models.doc2vec.Doc2Vec(vector_size=50, min_count=1, epochs=40)\n",
    "model.build_vocab(trainCorpus)\n"
   ]
  },
  {
   "cell_type": "code",
   "execution_count": 39,
   "id": "7e29964d",
   "metadata": {},
   "outputs": [
    {
     "name": "stdout",
     "output_type": "stream",
     "text": [
      "\"example\" appears this many times in corpus:\n",
      "{782}\n"
     ]
    }
   ],
   "source": [
    "# check word occurence\n",
    "checkWord = \"example\"\n",
    "print(\"\\\"\" + str(checkWord) + \"\\\"\" + \" appears this many times in corpus:\")\n",
    "print({model.wv.get_vecattr(checkWord, 'count')})"
   ]
  },
  {
   "cell_type": "code",
   "execution_count": 17,
   "id": "741840e4",
   "metadata": {},
   "outputs": [
    {
     "name": "stderr",
     "output_type": "stream",
     "text": [
      "2022-09-27 17:32:08,074 : INFO : Doc2Vec lifecycle event {'msg': 'training model with 3 workers on 11292 vocabulary and 50 features, using sg=0 hs=0 sample=0.001 negative=5 window=5 shrink_windows=True', 'datetime': '2022-09-27T17:32:08.074471', 'gensim': '4.2.0', 'python': '3.10.6 | packaged by conda-forge | (main, Aug 22 2022, 20:41:22) [Clang 13.0.1 ]', 'platform': 'macOS-12.0.1-arm64-arm-64bit', 'event': 'train'}\n",
      "2022-09-27 17:32:09,107 : INFO : EPOCH 0 - PROGRESS: at 53.81% examples, 331928 words/s, in_qsize 6, out_qsize 0\n",
      "2022-09-27 17:32:09,904 : INFO : EPOCH 0: training on 624981 raw words (639474 effective words) took 1.8s, 352113 effective words/s\n",
      "2022-09-27 17:32:10,911 : INFO : EPOCH 1 - PROGRESS: at 53.81% examples, 337519 words/s, in_qsize 5, out_qsize 0\n",
      "2022-09-27 17:32:11,672 : INFO : EPOCH 1: training on 624981 raw words (639231 effective words) took 1.8s, 362547 effective words/s\n",
      "2022-09-27 17:32:12,697 : INFO : EPOCH 2 - PROGRESS: at 56.06% examples, 342817 words/s, in_qsize 5, out_qsize 0\n",
      "2022-09-27 17:32:13,441 : INFO : EPOCH 2: training on 624981 raw words (639511 effective words) took 1.8s, 362757 effective words/s\n",
      "2022-09-27 17:32:14,474 : INFO : EPOCH 3 - PROGRESS: at 56.06% examples, 340280 words/s, in_qsize 6, out_qsize 0\n",
      "2022-09-27 17:32:15,194 : INFO : EPOCH 3: training on 624981 raw words (639380 effective words) took 1.7s, 366049 effective words/s\n",
      "2022-09-27 17:32:16,228 : INFO : EPOCH 4 - PROGRESS: at 56.06% examples, 339588 words/s, in_qsize 6, out_qsize 0\n",
      "2022-09-27 17:32:16,940 : INFO : EPOCH 4: training on 624981 raw words (639066 effective words) took 1.7s, 367228 effective words/s\n",
      "2022-09-27 17:32:17,970 : INFO : EPOCH 5 - PROGRESS: at 56.06% examples, 341147 words/s, in_qsize 6, out_qsize 0\n",
      "2022-09-27 17:32:18,689 : INFO : EPOCH 5: training on 624981 raw words (639532 effective words) took 1.7s, 366671 effective words/s\n",
      "2022-09-27 17:32:19,720 : INFO : EPOCH 6 - PROGRESS: at 56.48% examples, 341690 words/s, in_qsize 5, out_qsize 0\n",
      "2022-09-27 17:32:20,446 : INFO : EPOCH 6: training on 624981 raw words (639311 effective words) took 1.7s, 365375 effective words/s\n",
      "2022-09-27 17:32:21,478 : INFO : EPOCH 7 - PROGRESS: at 56.48% examples, 340767 words/s, in_qsize 6, out_qsize 0\n",
      "2022-09-27 17:32:22,241 : INFO : EPOCH 7: training on 624981 raw words (639227 effective words) took 1.8s, 357236 effective words/s\n",
      "2022-09-27 17:32:23,268 : INFO : EPOCH 8 - PROGRESS: at 53.81% examples, 331574 words/s, in_qsize 5, out_qsize 0\n",
      "2022-09-27 17:32:24,030 : INFO : EPOCH 8: training on 624981 raw words (639462 effective words) took 1.8s, 358730 effective words/s\n",
      "2022-09-27 17:32:25,046 : INFO : EPOCH 9 - PROGRESS: at 56.06% examples, 345636 words/s, in_qsize 5, out_qsize 0\n",
      "2022-09-27 17:32:25,786 : INFO : EPOCH 9: training on 624981 raw words (639590 effective words) took 1.8s, 365334 effective words/s\n",
      "2022-09-27 17:32:26,821 : INFO : EPOCH 10 - PROGRESS: at 58.72% examples, 350123 words/s, in_qsize 5, out_qsize 0\n",
      "2022-09-27 17:32:27,539 : INFO : EPOCH 10: training on 624981 raw words (639160 effective words) took 1.7s, 365741 effective words/s\n",
      "2022-09-27 17:32:28,549 : INFO : EPOCH 11 - PROGRESS: at 53.81% examples, 337234 words/s, in_qsize 5, out_qsize 0\n",
      "2022-09-27 17:32:29,296 : INFO : EPOCH 11: training on 624981 raw words (639388 effective words) took 1.8s, 365245 effective words/s\n",
      "2022-09-27 17:32:30,339 : INFO : EPOCH 12 - PROGRESS: at 56.06% examples, 337227 words/s, in_qsize 5, out_qsize 0\n",
      "2022-09-27 17:32:31,079 : INFO : EPOCH 12: training on 624981 raw words (639342 effective words) took 1.8s, 360082 effective words/s\n",
      "2022-09-27 17:32:32,084 : INFO : EPOCH 13 - PROGRESS: at 56.06% examples, 349345 words/s, in_qsize 5, out_qsize 0\n",
      "2022-09-27 17:32:32,811 : INFO : EPOCH 13: training on 624981 raw words (639435 effective words) took 1.7s, 370328 effective words/s\n",
      "2022-09-27 17:32:33,836 : INFO : EPOCH 14 - PROGRESS: at 53.81% examples, 331990 words/s, in_qsize 5, out_qsize 0\n",
      "2022-09-27 17:32:34,595 : INFO : EPOCH 14: training on 624981 raw words (639352 effective words) took 1.8s, 359507 effective words/s\n",
      "2022-09-27 17:32:35,630 : INFO : EPOCH 15 - PROGRESS: at 58.72% examples, 350361 words/s, in_qsize 6, out_qsize 0\n",
      "2022-09-27 17:32:36,321 : INFO : EPOCH 15: training on 624981 raw words (639386 effective words) took 1.7s, 371696 effective words/s\n",
      "2022-09-27 17:32:37,331 : INFO : EPOCH 16 - PROGRESS: at 56.06% examples, 348038 words/s, in_qsize 5, out_qsize 0\n",
      "2022-09-27 17:32:38,045 : INFO : EPOCH 16: training on 624981 raw words (639134 effective words) took 1.7s, 372042 effective words/s\n",
      "2022-09-27 17:32:39,057 : INFO : EPOCH 17 - PROGRESS: at 56.48% examples, 347771 words/s, in_qsize 6, out_qsize 0\n",
      "2022-09-27 17:32:39,752 : INFO : EPOCH 17: training on 624981 raw words (639530 effective words) took 1.7s, 375838 effective words/s\n",
      "2022-09-27 17:32:40,764 : INFO : EPOCH 18 - PROGRESS: at 58.72% examples, 358290 words/s, in_qsize 6, out_qsize 0\n",
      "2022-09-27 17:32:41,458 : INFO : EPOCH 18: training on 624981 raw words (639392 effective words) took 1.7s, 376206 effective words/s\n",
      "2022-09-27 17:32:42,465 : INFO : EPOCH 19 - PROGRESS: at 56.06% examples, 348824 words/s, in_qsize 5, out_qsize 0\n",
      "2022-09-27 17:32:43,174 : INFO : EPOCH 19: training on 624981 raw words (639283 effective words) took 1.7s, 373747 effective words/s\n",
      "2022-09-27 17:32:44,193 : INFO : EPOCH 20 - PROGRESS: at 56.06% examples, 345085 words/s, in_qsize 6, out_qsize 0\n",
      "2022-09-27 17:32:44,892 : INFO : EPOCH 20: training on 624981 raw words (639771 effective words) took 1.7s, 373771 effective words/s\n",
      "2022-09-27 17:32:45,903 : INFO : EPOCH 21 - PROGRESS: at 58.72% examples, 358497 words/s, in_qsize 6, out_qsize 0\n",
      "2022-09-27 17:32:46,602 : INFO : EPOCH 21: training on 624981 raw words (639216 effective words) took 1.7s, 375125 effective words/s\n",
      "2022-09-27 17:32:47,609 : INFO : EPOCH 22 - PROGRESS: at 56.06% examples, 348860 words/s, in_qsize 5, out_qsize 0\n",
      "2022-09-27 17:32:48,320 : INFO : EPOCH 22: training on 624981 raw words (639399 effective words) took 1.7s, 373322 effective words/s\n",
      "2022-09-27 17:32:49,329 : INFO : EPOCH 23 - PROGRESS: at 58.72% examples, 359342 words/s, in_qsize 6, out_qsize 0\n",
      "2022-09-27 17:32:50,031 : INFO : EPOCH 23: training on 624981 raw words (639346 effective words) took 1.7s, 375035 effective words/s\n",
      "2022-09-27 17:32:51,050 : INFO : EPOCH 24 - PROGRESS: at 58.72% examples, 355752 words/s, in_qsize 5, out_qsize 0\n",
      "2022-09-27 17:32:51,742 : INFO : EPOCH 24: training on 624981 raw words (639349 effective words) took 1.7s, 374828 effective words/s\n",
      "2022-09-27 17:32:52,753 : INFO : EPOCH 25 - PROGRESS: at 58.72% examples, 358894 words/s, in_qsize 5, out_qsize 0\n",
      "2022-09-27 17:32:53,465 : INFO : EPOCH 25: training on 624981 raw words (639424 effective words) took 1.7s, 372544 effective words/s\n",
      "2022-09-27 17:32:54,480 : INFO : EPOCH 26 - PROGRESS: at 58.72% examples, 357444 words/s, in_qsize 5, out_qsize 0\n",
      "2022-09-27 17:32:55,174 : INFO : EPOCH 26: training on 624981 raw words (639454 effective words) took 1.7s, 375358 effective words/s\n",
      "2022-09-27 17:32:56,224 : INFO : EPOCH 27 - PROGRESS: at 60.28% examples, 355269 words/s, in_qsize 6, out_qsize 0\n",
      "2022-09-27 17:32:56,870 : INFO : EPOCH 27: training on 624981 raw words (639230 effective words) took 1.7s, 378278 effective words/s\n",
      "2022-09-27 17:32:57,889 : INFO : EPOCH 28 - PROGRESS: at 58.72% examples, 355934 words/s, in_qsize 5, out_qsize 0\n",
      "2022-09-27 17:32:58,577 : INFO : EPOCH 28: training on 624981 raw words (639382 effective words) took 1.7s, 375804 effective words/s\n",
      "2022-09-27 17:32:59,627 : INFO : EPOCH 29 - PROGRESS: at 60.28% examples, 355247 words/s, in_qsize 5, out_qsize 0\n",
      "2022-09-27 17:33:00,282 : INFO : EPOCH 29: training on 624981 raw words (639405 effective words) took 1.7s, 376474 effective words/s\n",
      "2022-09-27 17:33:01,302 : INFO : EPOCH 30 - PROGRESS: at 56.06% examples, 344391 words/s, in_qsize 6, out_qsize 0\n",
      "2022-09-27 17:33:02,014 : INFO : EPOCH 30: training on 624981 raw words (639235 effective words) took 1.7s, 370245 effective words/s\n",
      "2022-09-27 17:33:03,057 : INFO : EPOCH 31 - PROGRESS: at 60.28% examples, 357699 words/s, in_qsize 5, out_qsize 0\n",
      "2022-09-27 17:33:03,705 : INFO : EPOCH 31: training on 624981 raw words (639660 effective words) took 1.7s, 379534 effective words/s\n"
     ]
    },
    {
     "name": "stderr",
     "output_type": "stream",
     "text": [
      "2022-09-27 17:33:04,754 : INFO : EPOCH 32 - PROGRESS: at 60.28% examples, 355532 words/s, in_qsize 6, out_qsize 0\n",
      "2022-09-27 17:33:05,407 : INFO : EPOCH 32: training on 624981 raw words (639367 effective words) took 1.7s, 377056 effective words/s\n",
      "2022-09-27 17:33:06,419 : INFO : EPOCH 33 - PROGRESS: at 58.72% examples, 357988 words/s, in_qsize 5, out_qsize 0\n",
      "2022-09-27 17:33:07,100 : INFO : EPOCH 33: training on 624981 raw words (639440 effective words) took 1.7s, 378806 effective words/s\n",
      "2022-09-27 17:33:08,126 : INFO : EPOCH 34 - PROGRESS: at 60.28% examples, 364267 words/s, in_qsize 5, out_qsize 0\n",
      "2022-09-27 17:33:08,785 : INFO : EPOCH 34: training on 624981 raw words (639543 effective words) took 1.7s, 381194 effective words/s\n",
      "2022-09-27 17:33:09,799 : INFO : EPOCH 35 - PROGRESS: at 58.72% examples, 357770 words/s, in_qsize 5, out_qsize 0\n",
      "2022-09-27 17:33:10,478 : INFO : EPOCH 35: training on 624981 raw words (639384 effective words) took 1.7s, 379168 effective words/s\n",
      "2022-09-27 17:33:11,537 : INFO : EPOCH 36 - PROGRESS: at 53.81% examples, 321241 words/s, in_qsize 5, out_qsize 0\n",
      "2022-09-27 17:33:12,270 : INFO : EPOCH 36: training on 624981 raw words (639215 effective words) took 1.8s, 357921 effective words/s\n",
      "2022-09-27 17:33:13,281 : INFO : EPOCH 37 - PROGRESS: at 58.72% examples, 358841 words/s, in_qsize 5, out_qsize 0\n",
      "2022-09-27 17:33:13,983 : INFO : EPOCH 37: training on 624981 raw words (639372 effective words) took 1.7s, 374549 effective words/s\n",
      "2022-09-27 17:33:15,020 : INFO : EPOCH 38 - PROGRESS: at 60.28% examples, 359860 words/s, in_qsize 5, out_qsize 0\n",
      "2022-09-27 17:33:15,668 : INFO : EPOCH 38: training on 624981 raw words (639495 effective words) took 1.7s, 380832 effective words/s\n",
      "2022-09-27 17:33:16,674 : INFO : EPOCH 39 - PROGRESS: at 58.72% examples, 360312 words/s, in_qsize 5, out_qsize 0\n",
      "2022-09-27 17:33:17,367 : INFO : EPOCH 39: training on 624981 raw words (639562 effective words) took 1.7s, 377632 effective words/s\n",
      "2022-09-27 17:33:17,367 : INFO : Doc2Vec lifecycle event {'msg': 'training on 24999240 raw words (25575435 effective words) took 69.3s, 369096 effective words/s', 'datetime': '2022-09-27T17:33:17.367809', 'gensim': '4.2.0', 'python': '3.10.6 | packaged by conda-forge | (main, Aug 22 2022, 20:41:22) [Clang 13.0.1 ]', 'platform': 'macOS-12.0.1-arm64-arm-64bit', 'event': 'train'}\n"
     ]
    }
   ],
   "source": [
    "model.train(trainCorpus, total_examples=model.corpus_count, epochs=model.epochs)"
   ]
  },
  {
   "cell_type": "code",
   "execution_count": 18,
   "id": "5fb2e7bb",
   "metadata": {},
   "outputs": [
    {
     "name": "stdout",
     "output_type": "stream",
     "text": [
      "infering a vector:\n",
      "[ 0.29547322  0.65043265 -0.03726393  0.45231763  0.0445142  -0.14993511\n",
      " -0.116064    0.03431334 -0.19280624  0.06190386  0.2911727  -0.2891688\n",
      "  0.25532177  0.13002183 -0.33655506  0.35234946 -0.35175878  0.36754876\n",
      " -0.9932178   0.15288362 -0.280485    0.47172755  0.3138533  -0.21402459\n",
      "  0.04025637 -0.38199612 -0.5859955   0.24699849 -0.31489393  0.07576025\n",
      " -0.34178367  0.17578979 -0.15533762  0.01805525 -0.10024661  0.7873988\n",
      "  0.20924246 -0.36599058 -0.42003304  0.1615636  -0.03278228 -0.14285877\n",
      "  0.31852806 -0.18245164  0.26246023  0.279182    0.08503538 -0.01234088\n",
      " -0.21989544  0.15844044]\n"
     ]
    }
   ],
   "source": [
    "# infer a vector from corupus (I dont actually know what this means or does! :D )\n",
    "vector = model.infer_vector(['only', 'you', 'can', 'prevent', 'forest', 'fires'])\n",
    "print(\"infering a vector:\")\n",
    "print(vector)"
   ]
  },
  {
   "cell_type": "code",
   "execution_count": 28,
   "id": "90780b8d",
   "metadata": {},
   "outputs": [],
   "source": [
    "with open(txtExtractDir + \"traincorpus.txt\", 'w') as file:\n",
    "    file.write(str(trainCorpus))"
   ]
  },
  {
   "cell_type": "code",
   "execution_count": 21,
   "id": "628faf27",
   "metadata": {},
   "outputs": [],
   "source": [
    "# assessing the model\n",
    "ranks = []\n",
    "secondRanks = []\n",
    "for doc_id in range(len(model.dv)):\n",
    "        inferredVector = model.infer_vector(trainCorpus[doc_id].words)\n",
    "        sims = model.dv.most_similar([inferredVector], topn=len(model.dv))\n",
    "        rank = [docid for docid, sim in sims].index(doc_id)\n",
    "        ranks.append(rank)\n",
    "        \n",
    "        \n",
    "        secondRanks.append(sims[1])"
   ]
  },
  {
   "cell_type": "code",
   "execution_count": 23,
   "id": "7ac481fc",
   "metadata": {},
   "outputs": [
    {
     "name": "stderr",
     "output_type": "stream",
     "text": [
      "IOPub data rate exceeded.\n",
      "The notebook server will temporarily stop sending output\n",
      "to the client in order to avoid crashing it.\n",
      "To change this limit, set the config variable\n",
      "`--NotebookApp.iopub_data_rate_limit`.\n",
      "\n",
      "Current values:\n",
      "NotebookApp.iopub_data_rate_limit=1000000.0 (bytes/sec)\n",
      "NotebookApp.rate_limit_window=3.0 (secs)\n",
      "\n"
     ]
    }
   ],
   "source": [
    "# for doc_id in range(len(trainCorpus)):\n",
    "#     print(doc_id)\n",
    "\n",
    "print(trainCorpus)"
   ]
  },
  {
   "cell_type": "code",
   "execution_count": 24,
   "id": "9152184b",
   "metadata": {},
   "outputs": [
    {
     "name": "stdout",
     "output_type": "stream",
     "text": [
      "Counter({0: 3235, 1: 1142, 2: 393, 3: 245, 4: 170, 5: 145, 6: 124, 8: 91, 7: 85, 9: 76, 10: 68, 11: 58, 13: 44, 12: 42, 14: 35, 15: 30, 18: 29, 20: 27, 17: 24, 22: 23, 21: 18, 16: 18, 26: 18, 25: 17, 23: 17, 27: 16, 24: 16, 30: 16, 62: 16, 54: 15, 42: 15, 39: 15, 51: 14, 19: 13, 31: 13, 35: 13, 52: 12, 43: 11, 28: 11, 66: 11, 67: 11, 79: 11, 41: 11, 50: 11, 37: 10, 32: 10, 113: 10, 36: 10, 40: 10, 46: 9, 44: 9, 34: 9, 49: 9, 29: 9, 48: 9, 91: 9, 95: 9, 131: 8, 45: 8, 60: 8, 353: 8, 644: 8, 111: 8, 1089: 8, 521: 8, 440: 8, 586: 8, 470: 7, 1396: 7, 671: 7, 405: 7, 1103: 7, 114: 7, 73: 7, 651: 7, 117: 7, 92: 7, 2184: 7, 1162: 7, 798: 7, 522: 7, 193: 7, 58: 7, 47: 7, 118: 7, 33: 7, 219: 7, 554: 7, 356: 7, 312: 7, 683: 7, 156: 7, 146: 7, 68: 7, 1019: 7, 108: 7, 333: 7, 160: 7, 38: 7, 738: 7, 179: 7, 84: 6, 169: 6, 1615: 6, 102: 6, 1432: 6, 93: 6, 1098: 6, 795: 6, 546: 6, 257: 6, 215: 6, 524: 6, 789: 6, 399: 6, 277: 6, 106: 6, 1053: 6, 1076: 6, 216: 6, 70: 6, 1332: 6, 755: 6, 1150: 6, 832: 6, 81: 6, 99: 6, 1650: 6, 589: 6, 1486: 6, 1246: 6, 965: 6, 56: 6, 132: 6, 707: 6, 994: 6, 1118: 6, 737: 6, 1829: 6, 931: 6, 222: 6, 65: 6, 242: 6, 122: 6, 935: 6, 479: 6, 609: 6, 489: 6, 88: 6, 87: 6, 274: 6, 930: 6, 89: 6, 165: 6, 80: 6, 1359: 6, 1218: 6, 258: 6, 308: 6, 1142: 6, 83: 6, 667: 6, 317: 6, 126: 6, 476: 6, 650: 6, 373: 6, 394: 5, 865: 5, 164: 5, 1724: 5, 1353: 5, 490: 5, 1130: 5, 1641: 5, 124: 5, 573: 5, 469: 5, 2081: 5, 1092: 5, 134: 5, 1110: 5, 57: 5, 714: 5, 101: 5, 747: 5, 71: 5, 7582: 5, 621: 5, 1705: 5, 511: 5, 379: 5, 351: 5, 814: 5, 1707: 5, 224: 5, 763: 5, 1731: 5, 452: 5, 1803: 5, 729: 5, 376: 5, 77: 5, 1761: 5, 1533: 5, 1811: 5, 319: 5, 162: 5, 492: 5, 186: 5, 634: 5, 957: 5, 841: 5, 1391: 5, 1740: 5, 74: 5, 646: 5, 1167: 5, 208: 5, 552: 5, 422: 5, 1613: 5, 176: 5, 123: 5, 1034: 5, 183: 5, 640: 5, 69: 5, 1919: 5, 1099: 5, 293: 5, 149: 5, 635: 5, 704: 5, 443: 5, 310: 5, 656: 5, 961: 5, 1308: 5, 366: 5, 2307: 5, 72: 5, 1487: 5, 271: 5, 928: 5, 497: 5, 1667: 5, 579: 5, 952: 5, 948: 5, 1187: 5, 195: 5, 130: 5, 2076: 5, 694: 5, 1945: 5, 1067: 5, 998: 5, 769: 5, 82: 5, 61: 5, 648: 5, 147: 5, 340: 5, 223: 5, 285: 5, 85: 5, 196: 5, 555: 5, 78: 5, 278: 5, 647: 5, 1402: 5, 121: 5, 1109: 5, 435: 5, 120: 5, 2339: 5, 1004: 5, 2547: 5, 574: 5, 202: 5, 170: 5, 184: 5, 808: 5, 663: 5, 825: 5, 1831: 4, 1530: 4, 572: 4, 256: 4, 4912: 4, 528: 4, 836: 4, 1157: 4, 908: 4, 527: 4, 1423: 4, 1388: 4, 995: 4, 1458: 4, 174: 4, 339: 4, 304: 4, 791: 4, 1121: 4, 434: 4, 1417: 4, 631: 4, 946: 4, 762: 4, 2132: 4, 3277: 4, 2945: 4, 424: 4, 254: 4, 1582: 4, 1082: 4, 144: 4, 1284: 4, 600: 4, 141: 4, 1568: 4, 669: 4, 756: 4, 75: 4, 829: 4, 1564: 4, 916: 4, 652: 4, 359: 4, 199: 4, 736: 4, 221: 4, 575: 4, 3378: 4, 1807: 4, 724: 4, 581: 4, 138: 4, 298: 4, 1475: 4, 623: 4, 103: 4, 402: 4, 150: 4, 929: 4, 564: 4, 796: 4, 197: 4, 699: 4, 248: 4, 2747: 4, 2505: 4, 1537: 4, 299: 4, 1015: 4, 1408: 4, 1934: 4, 2440: 4, 1278: 4, 561: 4, 1556: 4, 1097: 4, 316: 4, 913: 4, 135: 4, 1255: 4, 1027: 4, 2379: 4, 1647: 4, 835: 4, 956: 4, 243: 4, 213: 4, 391: 4, 427: 4, 851: 4, 1944: 4, 264: 4, 55: 4, 761: 4, 719: 4, 973: 4, 1312: 4, 1970: 4, 200: 4, 733: 4, 116: 4, 4066: 4, 112: 4, 145: 4, 582: 4, 804: 4, 1450: 4, 1834: 4, 1283: 4, 693: 4, 16454: 4, 413: 4, 267: 4, 76: 4, 771: 4, 740: 4, 1017: 4, 2625: 4, 1633: 4, 137: 4, 1884: 4, 529: 4, 877: 4, 744: 4, 907: 4, 3072: 4, 686: 4, 1299: 4, 438: 4, 2086: 4, 153: 4, 259: 4, 1902: 4, 273: 4, 462: 4, 949: 4, 432: 4, 603: 4, 974: 4, 1375: 4, 1639: 4, 571: 4, 1235: 4, 2808: 4, 612: 4, 1905: 4, 493: 4, 590: 4, 475: 4, 110: 4, 1622: 4, 3074: 4, 1404: 4, 90: 4, 344: 4, 2269: 4, 1123: 4, 1493: 4, 758: 4, 1340: 4, 159: 4, 275: 4, 63: 4, 1415: 4, 1910: 4, 266: 4, 1176: 4, 2556: 4, 1065: 4, 409: 4, 1840: 4, 783: 4, 1696: 4, 773: 4, 457: 4, 1669: 4, 9418: 4, 105: 4, 1000: 4, 207: 4, 1277: 4, 1883: 4, 543: 4, 1132: 4, 741: 4, 423: 4, 436: 4, 181: 4, 953: 4, 1134: 4, 318: 4, 301: 4, 1653: 4, 1960: 4, 472: 4, 674: 4, 1445: 4, 375: 4, 59: 4, 2856: 4, 414: 4, 1443: 4, 477: 4, 96: 4, 231: 4, 1290: 4, 187: 4, 467: 4, 445: 4, 525: 4, 820: 4, 315: 4, 943: 4, 1672: 4, 194: 4, 433: 4, 168: 4, 1055: 4, 1061: 4, 1274: 4, 691: 4, 1032: 4, 1581: 4, 388: 4, 1169: 4, 673: 4, 655: 4, 322: 4, 822: 4, 408: 4, 2195: 4, 874: 4, 848: 4, 294: 4, 643: 4, 313: 4, 2509: 4, 337: 4, 392: 4, 246: 4, 1386: 4, 1915: 4, 226: 4, 537: 4, 305: 4, 1151: 4, 1453: 4, 281: 4, 1096: 4, 739: 4, 1265: 4, 749: 4, 981: 4, 502: 4, 324: 4, 2077: 4, 926: 4, 2643: 4, 1159: 4, 335: 4, 1202: 4, 607: 4, 807: 4, 206: 4, 2579: 3, 889: 3, 611: 3, 1108: 3, 550: 3, 2061: 3, 2707: 3, 1701: 3, 937: 3, 597: 3, 624: 3, 1982: 3, 1197: 3, 1424: 3, 1801: 3, 1124: 3, 1586: 3, 2406: 3, 1484: 3, 1223: 3, 2408: 3, 10839: 3, 868: 3, 1506: 3, 1501: 3, 16684: 3, 1572: 3, 3039: 3, 2074: 3, 517: 3, 352: 3, 856: 3, 778: 3, 2233: 3, 1759: 3, 1001: 3, 380: 3, 403: 3, 633: 3, 1366: 3, 1452: 3, 722: 3, 1523: 3, 881: 3, 1702: 3, 523: 3, 481: 3, 3815: 3, 1756: 3, 1508: 3, 896: 3, 1856: 3, 233: 3, 2228: 3, 1956: 3, 6265: 3, 932: 3, 710: 3, 2027: 3, 2582: 3, 803: 3, 936: 3, 1577: 3, 2788: 3, 232: 3, 2935: 3, 3343: 3, 17140: 3, 17282: 3, 3732: 3, 2267: 3, 1860: 3, 133: 3, 810: 3, 1441: 3, 1261: 3, 1935: 3, 459: 3, 1210: 3, 754: 3, 1835: 3, 864: 3, 1598: 3, 562: 3, 177: 3, 799: 3, 227: 3, 1882: 3, 976: 3, 261: 3, 834: 3, 1288: 3, 1158: 3, 1205: 3, 3075: 3, 553: 3, 1249: 3, 280: 3, 512: 3, 1994: 3, 1137: 3, 585: 3, 1414: 3, 1407: 3, 2035: 3, 2581: 3, 1273: 3, 1684: 3, 136: 3, 1957: 3, 1264: 3, 1322: 3, 805: 3, 2219: 3, 757: 3, 1024: 3, 1030: 3, 1236: 3, 1146: 3, 2208: 3, 14374: 3, 568: 3, 64: 3, 173: 3, 888: 3, 1345: 3, 104: 3, 1258: 3, 354: 3, 5326: 3, 2170: 3, 1154: 3, 237: 3, 3332: 3, 969: 3, 1334: 3, 1535: 3, 924: 3, 2334: 3, 1585: 3, 1094: 3, 1592: 3, 16275: 3, 2956: 3, 1002: 3, 970: 3, 1863: 3, 1852: 3, 2271: 3, 2908: 3, 1990: 3, 854: 3, 1814: 3, 3244: 3, 867: 3, 567: 3, 8970: 3, 1125: 3, 2324: 3, 14730: 3, 1599: 3, 1081: 3, 16479: 3, 878: 3, 1690: 3, 819: 3, 16518: 3, 486: 3, 1949: 3, 16383: 3, 626: 3, 2374: 3, 2258: 3, 415: 3, 817: 3, 14982: 3, 157: 3, 1937: 3, 1382: 3, 1541: 3, 1605: 3, 404: 3, 1020: 3, 1606: 3, 1826: 3, 449: 3, 4186: 3, 1507: 3, 743: 3, 1482: 3, 260: 3, 374: 3, 16397: 3, 1126: 3, 494: 3, 2391: 3, 1056: 3, 788: 3, 2204: 3, 1367: 3, 368: 3, 421: 3, 451: 3, 2419: 3, 1576: 3, 2109: 3, 520: 3, 3577: 3, 1313: 3, 189: 3, 128: 3, 540: 3, 172: 3, 1069: 3, 1295: 3, 983: 3, 1645: 3, 191: 3, 1351: 3, 1640: 3, 1222: 3, 863: 3, 410: 3, 3347: 3, 1886: 3, 1052: 3, 618: 3, 17191: 3, 1628: 3, 6855: 3, 461: 3, 1354: 3, 1352: 3, 17077: 3, 1973: 3, 1931: 3, 610: 3, 14655: 3, 824: 3, 1674: 3, 1384: 3, 893: 3, 1370: 3, 1524: 3, 1225: 3, 533: 3, 1661: 3, 1268: 3, 2127: 3, 1324: 3, 1743: 3, 513: 3, 2608: 3, 2220: 3, 1195: 3, 2681: 3, 385: 3, 1540: 3, 471: 3, 1219: 3, 4893: 3, 786: 3, 203: 3, 504: 3, 632: 3, 809: 3, 858: 3, 1818: 3, 86: 3, 1928: 3, 446: 3, 53: 3, 681: 3, 1155: 3, 1631: 3, 2036: 3, 1211: 3, 968: 3, 7710: 3, 13847: 3, 1025: 3, 460: 3, 1316: 3, 1198: 3, 837: 3, 606: 3, 766: 3, 119: 3, 1779: 3, 2026: 3, 334: 3, 1323: 3, 2067: 3, 2254: 3, 1942: 3, 794: 3, 1926: 3, 1695: 3, 1051: 3, 1495: 3, 500: 3, 228: 3, 1164: 3, 1694: 3, 855: 3, 668: 3, 1459: 3, 499: 3, 2390: 3, 1350: 3, 2073: 3, 2627: 3, 2177: 3, 1471: 3, 2090: 3, 13343: 3, 2277: 3, 1802: 3, 2203: 3, 1147: 3, 658: 3, 580: 3, 1620: 3, 306: 3, 2205: 3, 2083: 3, 1374: 3, 1569: 3, 2567: 3, 1035: 3, 2346: 3, 252: 3, 891: 3, 843: 3, 1212: 3, 734: 3, 1922: 3, 526: 3, 784: 3, 100: 3, 346: 3, 692: 3, 17340: 3, 728: 3, 338: 3, 13436: 3, 2095: 3, 8886: 3, 9745: 3, 12739: 3, 1561: 3, 672: 3, 541: 3, 1749: 3, 2021: 3, 2209: 3, 1333: 3, 1344: 3, 780: 3, 1911: 3, 94: 3, 1844: 3, 1271: 3, 1153: 3, 2057: 3, 2134: 3, 1401: 3, 608: 3, 98: 3, 12351: 3, 760: 3, 439: 3, 1688: 3, 13168: 3, 1427: 3, 204: 3, 1649: 3, 5367: 3, 5529: 3, 2860: 3, 13416: 3, 17208: 3, 642: 3, 1611: 3, 482: 3, 1339: 3, 742: 3, 251: 3, 7793: 3, 1008: 3, 1514: 3, 1893: 3, 506: 3, 1156: 3, 518: 3, 1045: 3, 16042: 3, 1462: 3, 3792: 3, 1077: 3, 367: 3, 2441: 3, 703: 3, 5671: 3, 1298: 3, 3362: 3, 594: 3, 1214: 3, 583: 3, 1057: 3, 1399: 3, 201: 3, 10297: 3, 1927: 3, 1036: 3, 488: 3, 97: 3, 1152: 3, 6321: 3, 911: 3, 584: 3, 1165: 3, 1248: 3, 1899: 3, 826: 3, 3125: 3, 1723: 3, 1975: 3, 866: 3, 912: 3, 599: 3, 793: 3, 1405: 3, 1520: 3, 363: 3, 1203: 3, 972: 3, 1618: 3, 1870: 3, 2557: 3, 2301: 3, 1799: 3, 840: 3, 510: 3, 1230: 3, 1967: 3, 1397: 3, 545: 3, 1085: 3, 2114: 3, 5512: 3, 3874: 3, 1709: 3, 971: 3, 1049: 3, 2336: 3, 781: 3, 1326: 3, 549: 3, 152: 3, 684: 3, 142: 3, 1084: 3, 1665: 3, 1233: 3, 185: 3, 627: 3, 473: 3, 2392: 3, 628: 3, 17307: 3, 1463: 3, 17172: 3, 1215: 3, 847: 3, 5231: 3, 5379: 3, 11966: 3, 1309: 3, 15172: 3, 1208: 3, 700: 3, 287: 3, 16484: 3, 588: 3, 5321: 3, 2737: 3, 15584: 3, 14123: 3, 139: 3, 2401: 3, 464: 3, 596: 3, 13769: 3, 8990: 3, 398: 3, 6723: 3, 665: 3, 262: 3, 544: 3, 15215: 3, 15203: 3, 5511: 3, 2494: 3, 3290: 3, 2372: 3, 11911: 3, 5378: 3, 5349: 3, 10353: 3, 1447: 3, 13049: 3, 5126: 3, 10634: 3, 350: 3, 14227: 3, 447: 3, 1105: 3, 2618: 3, 9786: 3, 11893: 3, 1770: 3, 3134: 3, 3810: 3, 4818: 3, 14120: 3, 8624: 3, 3600: 3, 1133: 3, 2289: 3, 860: 2, 442: 2, 3495: 2, 1122: 2, 3008: 2, 1411: 2, 455: 2, 1890: 2, 1657: 2, 2623: 2, 2143: 2, 745: 2, 2597: 2, 1635: 2, 2147: 2, 1112: 2, 982: 2, 1224: 2, 8007: 2, 10045: 2, 2158: 2, 16357: 2, 1102: 2, 239: 2, 2046: 2, 1446: 2, 4197: 2, 1330: 2, 1728: 2, 2521: 2, 2405: 2, 4183: 2, 13837: 2, 1898: 2, 16601: 2, 10294: 2, 774: 2, 11126: 2, 3524: 2, 8625: 2, 16805: 2, 16869: 2, 1438: 2, 1011: 2, 7465: 2, 4757: 2, 2774: 2, 2240: 2, 9885: 2, 1558: 2, 3296: 2, 2520: 2, 1054: 2, 1425: 2, 1913: 2, 2171: 2, 1515: 2, 5237: 2, 1873: 2, 3499: 2, 12209: 2, 2444: 2, 7063: 2, 2369: 2, 2635: 2, 14839: 2, 3885: 2, 1768: 2, 12166: 2, 5692: 2, 6502: 2, 5368: 2, 4267: 2, 6206: 2, 13574: 2, 2992: 2, 1590: 2, 1703: 2, 13405: 2, 12773: 2, 2596: 2, 1992: 2, 4107: 2, 15018: 2, 4050: 2, 2999: 2, 1465: 2, 7215: 2, 16407: 2, 15371: 2, 5950: 2, 13479: 2, 3451: 2, 2122: 2, 5474: 2, 1364: 2, 6266: 2, 3681: 2, 16912: 2, 17131: 2, 1765: 2, 5875: 2, 4708: 2, 1413: 2, 6339: 2, 9266: 2, 4048: 2, 3538: 2, 2044: 2, 2259: 2, 1764: 2, 4373: 2, 12624: 2, 15306: 2, 3594: 2, 2875: 2, 2025: 2, 16342: 2, 1808: 2, 1987: 2, 378: 2, 1597: 2, 2760: 2, 1190: 2, 1232: 2, 3042: 2, 1560: 2, 2802: 2, 6055: 2, 14594: 2, 1439: 2, 947: 2, 253: 2, 2315: 2, 1492: 2, 1778: 2, 514: 2, 1692: 2, 2692: 2, 3658: 2, 2735: 2, 942: 2, 3589: 2, 1488: 2, 279: 2, 1691: 2, 297: 2, 2889: 2, 4047: 2, 1727: 2, 687: 2, 3311: 2, 2363: 2, 620: 2, 2309: 2, 426: 2, 1644: 2, 614: 2, 4694: 2, 4123: 2, 1398: 2, 2489: 2, 718: 2, 2121: 2, 295: 2, 1880: 2, 3784: 2, 1237: 2, 1602: 2, 1729: 2, 3067: 2, 872: 2, 14972: 2, 2666: 2, 782: 2, 1614: 2, 2024: 2, 2546: 2, 14148: 2, 12695: 2, 1914: 2, 1997: 2, 1916: 2, 2534: 2, 1853: 2, 6704: 2, 2786: 2, 14454: 2, 1181: 2, 2454: 2, 2125: 2, 1282: 2, 1033: 2, 6530: 2, 3507: 2, 2835: 2, 1360: 2, 746: 2, 1891: 2, 1545: 2, 977: 2, 365: 2, 2396: 2, 418: 2, 1328: 2, 3052: 2, 800: 2, 3014: 2, 16874: 2, 14365: 2, 268: 2, 1253: 2, 377: 2, 1474: 2, 918: 2, 2153: 2, 1773: 2, 15269: 2, 1923: 2, 6649: 2, 5159: 2, 17316: 2, 1567: 2, 15824: 2, 903: 2, 328: 2, 12518: 2, 3863: 2, 11528: 2, 1517: 2, 12605: 2, 1343: 2, 8524: 2, 2317: 2, 4321: 2, 16553: 2, 16023: 2, 2537: 2, 2101: 2, 8634: 2, 9915: 2, 14283: 2, 1497: 2, 14769: 2, 4463: 2, 12258: 2, 15805: 2, 3746: 2, 15486: 2, 7518: 2, 2792: 2, 3227: 2, 701: 2, 1491: 2, 16655: 2, 2001: 2, 2433: 2, 3415: 2, 1347: 2, 2178: 2, 670: 2, 10684: 2, 1173: 2, 2078: 2, 1954: 2, 4112: 2, 759: 2, 2529: 2, 3268: 2, 636: 2, 3094: 2, 577: 2, 2880: 2, 1267: 2, 802: 2, 3360: 2, 991: 2, 1226: 2, 563: 2, 1338: 2, 1251: 2, 3151: 2, 2629: 2, 2355: 2, 412: 2, 1337: 2, 11006: 2, 9743: 2, 15299: 2, 1191: 2, 3654: 2, 4557: 2, 1867: 2, 1455: 2, 2212: 2, 2682: 2, 1924: 2, 17286: 2, 3476: 2, 16190: 2, 1058: 2, 951: 2, 2523: 2, 3440: 2, 3309: 2, 2087: 2, 5801: 2, 990: 2, 1106: 2, 708: 2, 1437: 2, 2784: 2, 4910: 2, 1787: 2, 883: 2, 875: 2, 217: 2, 2338: 2, 4387: 2, 1557: 2, 1609: 2, 4840: 2, 2663: 2, 12736: 2, 3371: 2, 940: 2, 993: 2, 240: 2, 2617: 2, 1179: 2, 3676: 2, 309: 2, 1046: 2, 880: 2, 3554: 2, 14423: 2, 17226: 2, 945: 2, 2872: 2, 13015: 2, 10165: 2, 2517: 2, 899: 2, 15046: 2, 13893: 2, 830: 2, 1257: 2, 8256: 2, 3017: 2, 16736: 2, 2799: 2, 3465: 2, 637: 2, 698: 2, 697: 2, 1010: 2, 10275: 2, 178: 2, 13505: 2, 7240: 2, 7776: 2, 3199: 2, 16697: 2, 705: 2, 17179: 2, 2669: 2, 2065: 2, 11589: 2, 3761: 2, 6683: 2, 14440: 2, 688: 2, 2106: 2, 3668: 2, 815: 2, 238: 2, 3574: 2, 9257: 2, 7816: 2, 3686: 2, 419: 2, 6322: 2, 12054: 2, 12041: 2, 10070: 2, 1850: 2, 16643: 2, 3433: 2, 1995: 2, 1245: 2, 1435: 2, 4844: 2, 8732: 2, 2033: 2, 2516: 2, 1070: 2, 666: 2, 140: 2, 10124: 2, 1607: 2, 14047: 2, 1341: 2, 862: 2, 1538: 2, 1477: 2, 323: 2, 1310: 2, 1510: 2, 559: 2, 1588: 2, 2169: 2, 1527: 2, 225: 2, 1107: 2, 362: 2, 2238: 2, 1906: 2, 158: 2, 1534: 2, 15402: 2, 425: 2, 910: 2, 2142: 2, 989: 2, 17249: 2, 2337: 2, 2175: 2, 3959: 2, 1601: 2, 16813: 2, 1550: 2, 508: 2, 12851: 2, 13710: 2, 4796: 2, 11197: 2, 10738: 2, 2274: 2, 1656: 2, 1632: 2, 2191: 2, 2501: 2, 327: 2, 1073: 2, 531: 2, 1518: 2, 503: 2, 1394: 2, 812: 2, 999: 2, 7184: 2, 2420: 2, 934: 2, 9355: 2, 1029: 2, 1675: 2, 2108: 2, 17317: 2, 10726: 2, 530: 2, 2136: 2, 1887: 2, 6940: 2, 15585: 2, 1587: 2, 2041: 2, 919: 2, 13719: 2, 1456: 2, 4657: 2, 1063: 2, 1603: 2, 2129: 2, 5283: 2, 1358: 2, 2492: 2, 1431: 2, 2092: 2, 2879: 2, 1849: 2, 276: 2, 1304: 2, 2060: 2, 2480: 2, 1851: 2, 787: 2, 2189: 2, 2099: 2, 709: 2, 3198: 2, 2218: 2, 2937: 2, 2047: 2, 720: 2, 1671: 2, 1346: 2, 3730: 2, 4155: 2, 358: 2, 129: 2, 466: 2, 1833: 2, 654: 2, 827: 2, 1846: 2, 1012: 2, 2115: 2, 2235: 2, 2333: 2, 966: 2, 1199: 2, 1689: 2, 417: 2, 1719: 2, 2151: 2, 921: 2, 1040: 2, 792: 2, 1732: 2, 1227: 2, 381: 2, 2285: 2, 2448: 2, 2671: 2, 2335: 2, 12185: 2, 1201: 2, 3303: 2, 752: 2, 1128: 2, 249: 2, 1380: 2, 678: 2, 1659: 2, 3148: 2, 1788: 2, 1436: 2, 453: 2, 1143: 2, 2779: 2, 898: 2, 1721: 2, 906: 2, 914: 2, 1711: 2, 1068: 2, 879: 2, 2990: 2, 1858: 2, 1734: 2, 1260: 2, 711: 2, 3011: 2, 2117: 2, 941: 2, 16658: 2, 768: 2, 1363: 2, 1489: 2, 1188: 2, 641: 2, 1979: 2, 625: 2, 220: 2, 15270: 2, 1617: 2, 16335: 2, 501: 2, 17223: 2, 4179: 2, 3086: 2, 4397: 2, 13189: 2, 1078: 2, 1747: 2, 17088: 2, 16378: 2, 1280: 2, 5478: 2, 2020: 2, 1947: 2, 2964: 2, 1420: 2, 8529: 2, 15375: 2, 765: 2, 2407: 2, 3187: 2, 3718: 2, 1549: 2, 1978: 2, 10593: 2, 3430: 2, 16963: 2, 1784: 2, 1775: 2, 1584: 2, 3150: 2, 6531: 2, 1216: 2, 2032: 2, 6219: 2, 9272: 2, 2361: 2, 2819: 2, 3828: 2, 894: 2, 2304: 2, 2415: 2, 343: 2, 1879: 2, 1240: 2, 505: 2, 10408: 2, 143: 2, 1872: 2, 474: 2, 2176: 2, 1329: 2, 1395: 2, 12908: 2, 986: 2, 171: 2, 2064: 2, 5450: 2, 1466: 2, 790: 2, 1371: 2, 962: 2, 1652: 2, 458: 2, 1095: 2, 4932: 2, 16449: 2, 9532: 2, 17280: 2, 384: 2, 10286: 2, 487: 2, 11445: 2, 4576: 2, 10774: 2, 11717: 2, 14356: 2, 5662: 2, 938: 2, 16267: 2, 15072: 2, 3434: 2, 15193: 2, 320: 2, 341: 2, 9165: 2, 6938: 2, 17220: 2, 4446: 2, 17123: 2, 16034: 2, 8583: 2, 1783: 2, 1472: 2, 2829: 2, 1383: 2, 1145: 2, 1066: 2, 1221: 2, 657: 2, 16026: 2, 15238: 2, 15834: 2, 15190: 2, 10666: 2, 372: 2, 9118: 2, 14824: 2, 15550: 2, 1075: 2, 4148: 2, 689: 2, 895: 2, 1593: 2, 3092: 2, 2648: 2, 4967: 2, 1795: 2, 2360: 2, 630: 2, 1115: 2, 15309: 2, 4079: 2, 15349: 2, 4223: 2, 4514: 2, 2264: 2, 950: 2, 716: 2, 3411: 2, 4467: 2, 14526: 2, 955: 2, 1741: 2, 397: 2, 7255: 2, 17305: 2, 2645: 2, 8209: 2, 1101: 2, 7692: 2, 14743: 2, 682: 2, 4478: 2, 16862: 2, 1522: 2, 8049: 2, 192: 2, 12406: 2, 3902: 2, 833: 2, 15492: 2, 15823: 2, 1810: 2, 4367: 2, 1062: 2, 939: 2, 1269: 2, 3532: 2, 532: 2, 2816: 2, 496: 2, 5172: 2, 592: 2, 1781: 2, 14719: 2, 1307: 2, 818: 2, 4791: 2, 1498: 2, 2776: 2, 5338: 2, 5128: 2, 1287: 2, 1013: 2, 9117: 2, 2165: 2, 1037: 2, 1951: 2, 16387: 2, 3170: 2, 2275: 2, 2331: 2, 1619: 2, 1204: 2, 465: 2, 846: 2, 2000: 2, 857: 2, 1104: 2, 2962: 2, 2435: 2, 325: 2, 2213: 2, 1141: 2, 2466: 2, 3107: 2, 1194: 2, 2801: 2, 770: 2, 535: 2, 3675: 2, 844: 2, 15245: 2, 1648: 2, 1116: 2, 900: 2, 167: 2, 1767: 2, 3370: 2, 2730: 2, 7567: 2, 1499: 2, 1319: 2, 1138: 2, 2201: 2, 1440: 2, 3819: 2, 2944: 2, 776: 2, 1093: 2, 1242: 2, 2365: 2, 495: 2, 901: 2, 4320: 2, 1704: 2, 1715: 2, 1505: 2, 245: 2, 180: 2, 444: 2, 2128: 2, 730: 2, 801: 2, 616: 2, 1521: 2, 842: 2, 2593: 2, 2146: 2, 15862: 2, 270: 2, 17324: 2, 9391: 2, 8788: 2, 1467: 2, 10554: 2, 3146: 2, 2533: 2, 11835: 2, 15004: 2, 483: 2, 2478: 2, 2022: 2, 17057: 2, 12896: 2, 14702: 2, 1421: 2, 2120: 2, 15351: 2, 16761: 2, 1832: 2, 1678: 2, 1044: 2, 2006: 2, 3389: 2, 3629: 2, 14499: 2, 4919: 2, 1250: 2, 1792: 2, 212: 2, 845: 2, 1135: 2, 3109: 2, 1180: 2, 576: 2, 14747: 2, 6102: 2, 873: 2, 1140: 2, 16517: 2, 393: 2, 542: 2, 1185: 2, 2034: 2, 1762: 2, 1494: 2, 645: 2, 7087: 2, 536: 2, 1254: 2, 979: 2, 1542: 2, 1314: 2, 7112: 2, 1889: 2, 441: 2, 468: 2, 1318: 2, 852: 2, 1228: 2, 1634: 2, 2551: 2, 2005: 2, 13871: 2, 5530: 2, 371: 2, 16294: 2, 14863: 2, 1241: 2, 14444: 2, 4533: 2, 16872: 2, 15711: 2, 1071: 2, 17099: 2, 17103: 2, 15899: 2, 753: 2, 1378: 2, 1419: 2, 16197: 2, 923: 2, 17050: 2, 1683: 2, 6349: 2, 16011: 2, 1297: 2, 14386: 2, 16569: 2, 15898: 2, 16068: 2, 534: 2, 9619: 2, 887: 2, 2429: 2, 2284: 2, 7498: 2, 218: 2, 13445: 2, 1496: 2, 1172: 2, 639: 2, 1090: 2, 1182: 2, 2172: 2, 9372: 2, 1285: 2, 3063: 2, 485: 2, 5598: 2, 6133: 2, 12709: 2, 7763: 2, 10100: 2, 2698: 2, 11545: 2, 1379: 2, 11363: 2, 15083: 2, 12455: 2, 963: 2, 14503: 2, 4957: 2, 595: 2, 17160: 2, 127: 2, 14069: 2, 14467: 2, 6833: 2, 3488: 2, 15664: 2, 9601: 2, 1168: 2, 15564: 2, 14736: 2, 1673: 2, 7504: 2, 16686: 2, 3955: 2, 16680: 2, 13973: 2, 1904: 2, 211: 2, 7217: 2, 7708: 2, 13937: 2, 14359: 2, 7634: 2, 2236: 2, 16420: 2, 2570: 2, 5574: 2, 1932: 2, 6803: 2, 4168: 2, 1014: 2, 16771: 2, 11799: 2, 182: 2, 3694: 2, 13411: 2, 15733: 2, 16741: 2, 2211: 2, 1356: 2, 1874: 2, 10453: 2, 1129: 2, 1262: 2, 1355: 2, 6289: 2, 629: 2, 13462: 2, 909: 2, 14985: 2, 721: 2, 1026: 2, 12107: 2, 516: 2, 8444: 2, 15276: 2, 15274: 2, 16952: 2, 16645: 2, 15690: 2, 15176: 2, 330: 2, 10251: 2, 9519: 2, 1746: 2, 7413: 2, 10525: 2, 15350: 2, 3598: 2, 16778: 2, 7991: 2, 5286: 2, 15860: 2, 9423: 2, 11428: 2, 1933: 2, 151: 2, 10880: 2, 16257: 2, 437: 2, 3172: 2, 897: 2, 8145: 2, 1730: 2, 4623: 2, 9446: 2, 6686: 2, 17112: 2, 15259: 2, 12016: 2, 5411: 2, 15136: 2, 15786: 2, 16731: 2, 17321: 2, 2395: 2, 11047: 2, 8150: 2, 4884: 2, 1131: 2, 12135: 2, 16405: 2, 14221: 2, 664: 2, 10238: 2, 6238: 2, 272: 2, 723: 2, 2769: 2, 3404: 2, 9450: 2, 4442: 2, 6158: 2, 15736: 2, 16991: 2, 15331: 2, 15692: 2, 16663: 2, 16650: 2, 13793: 2, 6416: 2, 17263: 2, 6856: 2, 2858: 2, 4553: 2, 17247: 2, 3693: 2, 15131: 2, 915: 2, 10458: 2, 463: 2, 7168: 2, 4592: 2, 7699: 2, 14230: 2, 12993: 2, 1007: 2, 4956: 2, 16148: 2, 4402: 2, 15334: 2, 8689: 2, 4298: 2, 16832: 2, 10530: 2, 14965: 2, 1047: 2, 12942: 2, 9224: 2, 7568: 2, 16909: 2, 13356: 2, 8026: 2, 17111: 2, 15999: 2, 13910: 2, 17034: 2, 9880: 2, 11374: 2, 5335: 2, 5658: 2, 15610: 2, 3845: 2, 2903: 2, 10681: 2, 4466: 2, 3471: 2, 4590: 2, 14352: 2, 16617: 2, 17046: 2, 2932: 2, 3265: 2, 4026: 2, 13767: 2, 16132: 2, 12151: 2, 9277: 2, 6600: 2, 3540: 2, 8101: 2, 11902: 2, 5661: 2, 13213: 2, 13579: 2, 10359: 2, 11327: 2, 2179: 2, 17343: 2, 3997: 2, 6633: 2, 14187: 2, 5895: 2, 11850: 2, 6284: 2, 1616: 2, 4715: 2, 16782: 2, 1490: 2, 1480: 2, 1571: 2, 13075: 2, 283: 2, 6631: 2, 15032: 2, 3183: 2, 884: 2, 11560: 2, 702: 2, 10964: 2, 2979: 2, 13426: 2, 10027: 2, 16122: 2, 13687: 2, 2545: 2, 11505: 2, 7950: 2, 16705: 2, 13016: 2, 7855: 2, 4704: 2, 331: 2, 2094: 2, 5165: 2, 12285: 2, 3961: 2, 5016: 2, 785: 2, 14684: 2, 5689: 2, 4863: 2, 16177: 2, 732: 2, 210: 2, 1955: 2, 7534: 2, 326: 2, 11588: 2, 14569: 2, 5825: 2, 1289: 2, 775: 2, 15418: 2, 209: 2, 4781: 2, 1536: 2, 713: 2, 12160: 2, 16793: 2, 7341: 2, 12561: 2, 11936: 2, 8983: 2, 10928: 2, 12874: 2, 11639: 2, 11876: 2, 12671: 2, 13355: 2, 5365: 2, 11499: 2, 13219: 2, 13584: 2, 13545: 2, 10944: 2, 4043: 2, 10583: 2, 5594: 2, 3298: 2, 3432: 2, 7072: 2, 4699: 2, 17100: 2, 3833: 2, 15747: 2, 14127: 2, 1742: 2, 777: 2, 5202: 2, 5136: 2, 7271: 2, 6477: 2, 10185: 2, 3526: 2, 4058: 2, 4291: 2, 3544: 2, 975: 2, 3431: 2, 8745: 2, 6808: 2, 4261: 2, 14116: 2, 15751: 2, 6131: 2, 16820: 2, 2105: 2, 3292: 2, 13531: 2, 3250: 2, 3840: 2, 6229: 2, 14073: 2, 7265: 2, 14726: 2, 11611: 2, 3439: 2, 4999: 2, 3049: 2, 14978: 2, 16996: 2, 16920: 2, 16107: 2, 15144: 2, 15093: 2, 15912: 2, 14164: 2, 11333: 2, 14126: 2, 16119: 2, 15748: 2, 16290: 2, 5931: 2, 7067: 2, 2716: 2, 5296: 2, 7914: 2, 4801: 2, 6151: 2, 6884: 2, 4666: 2, 14738: 2, 14564: 2, 2785: 2, 996: 2, 5802: 2, 2292: 2, 17162: 2, 9804: 2, 2843: 2, 9235: 2, 17135: 2, 3782: 2, 10348: 2, 1896: 2, 2457: 2, 6536: 2, 3180: 2, 12923: 2, 4823: 2, 12346: 2, 8106: 2, 11577: 2, 6879: 2, 5475: 2, 5557: 2, 12931: 2, 5648: 2, 7624: 2, 5002: 2, 2615: 2, 15740: 2, 14762: 2, 3753: 2, 8215: 2, 4254: 2, 8925: 2, 3232: 2, 13223: 2, 10564: 2, 6599: 2, 8786: 2, 14583: 2, 3321: 2, 14567: 2, 15753: 2, 13616: 2, 3595: 2, 4663: 2, 3498: 2, 5743: 2, 1755: 2, 4938: 2, 15359: 2, 11525: 2, 6006: 2, 16063: 2, 14205: 2, 2049: 2, 17331: 2, 4946: 1, 3807: 1, 1822: 1, 3106: 1, 9822: 1, 3190: 1, 2622: 1, 3009: 1, 622: 1, 10812: 1, 5071: 1, 1658: 1, 2295: 1, 3202: 1, 3798: 1, 4602: 1, 16478: 1, 15874: 1, 12082: 1, 3611: 1, 751: 1, 17156: 1, 507: 1, 16236: 1, 11922: 1, 13827: 1, 12212: 1, 2714: 1, 15352: 1, 7245: 1, 1504: 1, 17216: 1, 13698: 1, 14988: 1, 8736: 1, 13121: 1, 4595: 1, 9473: 1, 9042: 1, 2898: 1, 1736: 1, 3159: 1, 3513: 1, 4263: 1, 7602: 1, 16602: 1, 14055: 1, 16585: 1, 15746: 1, 6659: 1, 8285: 1, 290: 1, 15957: 1, 10700: 1, 17013: 1, 2159: 1, 8822: 1, 9560: 1, 12260: 1, 2107: 1, 12714: 1, 15113: 1, 10099: 1, 16927: 1, 14990: 1, 9888: 1, 13609: 1, 3300: 1, 3377: 1, 560: 1, 15668: 1, 598: 1, 3729: 1, 2167: 1, 849: 1, 1270: 1, 1739: 1, 2580: 1, 7609: 1, 7934: 1, 11049: 1, 3622: 1, 10246: 1, 13299: 1, 15734: 1, 8911: 1, 1444: 1, 10553: 1, 10428: 1, 4680: 1, 4150: 1, 10388: 1, 3581: 1, 15499: 1, 5776: 1, 16639: 1, 11900: 1, 15708: 1, 8025: 1, 17054: 1, 8020: 1, 1744: 1, 7633: 1, 14680: 1, 1998: 1, 4488: 1, 4346: 1, 5094: 1, 6156: 1, 11491: 1, 2541: 1, 8924: 1, 1127: 1, 17214: 1, 2224: 1, 11920: 1, 13736: 1, 5482: 1, 5621: 1, 12179: 1, 15538: 1, 3041: 1, 16188: 1, 3929: 1, 13466: 1, 5103: 1, 13050: 1, 4869: 1, 5051: 1, 17110: 1, 558: 1, 14450: 1, 5680: 1, 8811: 1, 12247: 1, 3057: 1, 1697: 1, 1473: 1, 17028: 1, 2891: 1, 2653: 1, 3255: 1, 10236: 1, 14105: 1, 10183: 1, 10991: 1, 3954: 1, 17170: 1, 16873: 1, 870: 1, 3233: 1, 12302: 1, 9968: 1, 14849: 1, 9838: 1, 11863: 1, 6403: 1, 4524: 1, 17215: 1, 4841: 1, 11487: 1, 7074: 1, 15712: 1, 15850: 1, 5694: 1, 12138: 1, 14525: 1, 15210: 1, 6076: 1, 9691: 1, 3256: 1, 3578: 1, 2400: 1, 12716: 1, 16029: 1, 1079: 1, 2691: 1, 15406: 1, 8680: 1, 2234: 1, 1573: 1, 2729: 1, 14369: 1, 2378: 1, 2778: 1, 1306: 1, 1745: 1, 1021: 1, 1892: 1, 2439: 1, 922: 1, 2484: 1, 9667: 1, 2542: 1, 3482: 1, 1139: 1, 289: 1, 2413: 1, 4355: 1, 16978: 1, 3356: 1, 1555: 1, 5629: 1, 2139: 1, 2982: 1, 2447: 1, 2102: 1, 2845: 1, 5533: 1, 2472: 1, 2606: 1, 3304: 1, 2358: 1, 3982: 1, 4486: 1, 7559: 1, 1959: 1, 1412: 1, 519: 1, 675: 1, 4260: 1, 6605: 1, 14692: 1, 3239: 1, 3962: 1, 1962: 1, 429: 1, 3262: 1, 1238: 1, 1553: 1, 3365: 1, 2352: 1, 2257: 1, 3586: 1, 2194: 1, 2764: 1, 1687: 1, 1966: 1, 6045: 1, 4087: 1, 1200: 1, 2088: 1, 14866: 1, 3493: 1, 1655: 1, 2130: 1, 1854: 1, 3138: 1, 1630: 1, 3147: 1, 4472: 1, 2133: 1, 1980: 1, 16806: 1, 1861: 1, 13939: 1, 1148: 1, 2089: 1, 3832: 1, 4719: 1, 13086: 1, 2348: 1, 3670: 1, 2093: 1, 2822: 1, 1828: 1, 9834: 1, 7866: 1, 1974: 1, 2112: 1, 677: 1, 3293: 1, 6453: 1, 4198: 1, 1247: 1, 9348: 1, 15789: 1, 3408: 1, 17334: 1, 13730: 1, 5467: 1, 3061: 1, 7361: 1, 2588: 1, 8207: 1, 5635: 1, 4093: 1, 14277: 1, 3155: 1, 3422: 1, 9330: 1, 3831: 1, 1100: 1, 17126: 1, 17004: 1, 9621: 1, 4614: 1, 17117: 1, 17293: 1, 12631: 1, 16147: 1, 15763: 1, 11026: 1, 12462: 1, 11816: 1, 16456: 1, 2467: 1, 13037: 1, 11843: 1, 10902: 1, 3704: 1, 16308: 1, 12134: 1, 8605: 1, 15088: 1, 2660: 1, 8254: 1, 16763: 1, 13644: 1, 12322: 1, 3569: 1, 13688: 1, 6050: 1, 6701: 1, 10194: 1, 16481: 1, 12084: 1, 14443: 1, 13457: 1, 3556: 1, 12770: 1, 8793: 1, 10407: 1, 17075: 1, 13992: 1, 11836: 1, 12645: 1, 8350: 1, 7781: 1, 7512: 1, 14368: 1, 13190: 1, 9542: 1, 3947: 1, 6395: 1, 16856: 1, 7927: 1, 12301: 1, 16276: 1, 15219: 1, 14613: 1, 16339: 1, 16579: 1, 3058: 1, 2771: 1, 11903: 1, 3249: 1, 15248: 1, 15923: 1, 12878: 1, 7136: 1, 15909: 1, 11031: 1, 4212: 1, 8484: 1, 14871: 1, 10055: 1, 4528: 1, 4948: 1, 7164: 1, 1857: 1, 1953: 1, 2527: 1, 14941: 1, 2926: 1, 13692: 1, 2665: 1, 2368: 1, 4225: 1, 4025: 1, 5027: 1, 12595: 1, 13900: 1, 2616: 1, 1543: 1, 15843: 1, 17012: 1, 2503: 1, 1005: 1, 2273: 1, 2923: 1, 4873: 1, 3119: 1, 1038: 1, 7009: 1, 5470: 1, 15591: 1, 7600: 1, 2388: 1, 3822: 1, 1315: 1, 1958: 1, 1837: 1, 3284: 1, 2181: 1, 2291: 1, 3176: 1, 2753: 1, 2975: 1, 3096: 1, 5490: 1, 5582: 1, 14992: 1, 4008: 1, 3980: 1, 4454: 1, 17292: 1, 2980: 1, 4350: 1, 16774: 1, 2711: 1, 5182: 1, 8477: 1, 3010: 1, 1738: 1, 3705: 1, 14608: 1, 3257: 1, 2247: 1, 2614: 1, 5204: 1, 9260: 1, 2678: 1, 5131: 1, 15290: 1, 5424: 1, 3398: 1, 2513: 1, 9878: 1, 17318: 1, 16960: 1, 11453: 1, 10387: 1, 2762: 1, 1754: 1, 15638: 1, 13650: 1, 1559: 1, 11759: 1, 5826: 1, 4118: 1, 617: 1, 11210: 1, 16085: 1, 4428: 1, 2216: 1, 2865: 1, 933: 1, 17227: 1, 1206: 1, 1589: 1, 3760: 1, 4600: 1, 3748: 1, 4343: 1, 15988: 1, 12485: 1, 1022: 1, 1234: 1, 1868: 1, 2199: 1, 2319: 1, 2164: 1, 2981: 1, 2734: 1, 2298: 1, 2848: 1, 2610: 1, 2985: 1, 2381: 1, 2197: 1, 14545: 1, 10862: 1, 8347: 1, 16934: 1, 2422: 1, 15355: 1, 14428: 1, 11302: 1, 12392: 1, 13357: 1, 6417: 1, 8217: 1, 17274: 1, 2916: 1, 15422: 1, 14414: 1, 13053: 1, 16915: 1, 15560: 1, 13048: 1, 3287: 1, 3326: 1, 4720: 1, 1972: 1, 7128: 1, 12615: 1, 4636: 1, 7105: 1, 288: 1, 3235: 1, 13518: 1, 10013: 1, 15671: 1, 16064: 1, 13440: 1, 2506: 1, 16838: 1, 2554: 1, 10385: 1, 16662: 1, 4103: 1, 8966: 1, 3335: 1, 7985: 1, 16062: 1, 17349: 1, 9218: 1, 2988: 1, 2465: 1, 3230: 1, 9496: 1, 4935: 1, 3757: 1, 15434: 1, 13284: 1, 11618: 1, 10603: 1, 9568: 1, 15967: 1, 16534: 1, 1170: 1, 8129: 1, 12506: 1, 15842: 1, 3350: 1, 15184: 1, 13469: 1, 5075: 1, 13255: 1, 3636: 1, 16922: 1, 4064: 1, 11879: 1, 2393: 1, 3387: 1, 16404: 1, 15596: 1, 17081: 1, 6220: 1, 2989: 1, 4993: 1, 2675: 1, 2188: 1, 9122: 1, 2657: 1, 15772: 1, 11260: 1, 3621: 1, 6471: 1, 17338: 1, 16014: 1, 5034: 1, 17062: 1, 12582: 1, 6943: 1, 14961: 1, 3152: 1, 12495: 1, 12627: 1, 16876: 1, 9719: 1, 13747: 1, 12629: 1, 4711: 1, 14024: 1, 8141: 1, 11793: 1, 6837: 1, 9033: 1, 5356: 1, 3561: 1, 11663: 1, 7628: 1, 7102: 1, 10106: 1, 15426: 1, 16253: 1, 4578: 1, 17083: 1, 11974: 1, 13302: 1, 12749: 1, 10718: 1, 14620: 1, 11553: 1, 6172: 1, 3240: 1, 4897: 1, 8830: 1, 3996: 1, 735: 1, 16589: 1, 12585: 1, 12779: 1, 11353: 1, 14900: 1, 4886: 1, 8757: 1, 6178: 1, 13230: 1, 17152: 1, 2042: 1, 16322: 1, 16386: 1, 11087: 1, 3375: 1, 4069: 1, 12290: 1, 11225: 1, 9325: 1, 4984: 1, 2499: 1, 2639: 1, 1325: 1, 16286: 1, 1981: 1, 2458: 1, 2232: 1, 16389: 1, 1449: 1, 601: 1, 1612: 1, 296: 1, 9186: 1, 13353: 1, 2399: 1, 107: 1, 14752: 1, 8162: 1, 3114: 1, 16661: 1, 16224: 1, 15023: 1, 1086: 1, 15216: 1, 10034: 1, 14847: 1, 4810: 1, 8820: 1, 8887: 1, 4529: 1, 5842: 1, 5162: 1, 10658: 1, 16125: 1, 9592: 1, 348: 1, 109: 1, 3931: 1, 2884: 1, 2738: 1, 978: 1, 7852: 1, 1713: 1, 5980: 1, 3412: 1, 13004: 1, 9322: 1, 2718: 1, 1193: 1, 14338: 1, 1677: 1, 2154: 1, 3627: 1, 11102: 1, 12227: 1, 13007: 1, 4655: 1, 11954: 1, 10752: 1, 16167: 1, 10885: 1, 13463: 1, 5169: 1, 10810: 1, 5109: 1, 685: 1, 14238: 1, 14404: 1, 8260: 1, 9327: 1, 2749: 1, 389: 1, 2056: 1, 1048: 1, 10379: 1, 16510: 1, 1544: 1, 2568: 1, 8243: 1, 4548: 1, 2308: 1, 2084: 1, 1812: 1, 3958: 1, 1985: 1, 1088: 1, 1239: 1, 14830: 1, 3090: 1, 1574: 1, 17327: 1, 12413: 1, 3631: 1, 4200: 1, 13106: 1, 2866: 1, 13259: 1, 13370: 1, 1855: 1, 7337: 1, 6889: 1, 5597: 1, 1292: 1, 11978: 1, 15947: 1, 10642: 1, 2960: 1, 17130: 1, 255: 1, 1608: 1, 2628: 1, 1305: 1, 12823: 1, 1596: 1, 9349: 1, 3916: 1, 2312: 1, 1733: 1, 1936: 1, 3177: 1, 2967: 1, 3306: 1, 1478: 1, 1272: 1, 2573: 1, 1529: 1, 1706: 1, 1938: 1, 2849: 1, 1177: 1, 1163: 1, 2636: 1, 2515: 1, 4001: 1, 1700: 1, 2111: 1, 3040: 1, 3423: 1, 2594: 1, 2514: 1, 1114: 1, 387: 1, 772: 1, 2268: 1, 2763: 1, 1009: 1, 3219: 1, 1174: 1, 980: 1, 1502: 1, 6356: 1, 250: 1, 2303: 1, 1256: 1, 1387: 1, 13713: 1, 871: 1, 3936: 1, 4375: 1, 1579: 1, 2712: 1, 2833: 1, 2149: 1, 2634: 1, 2847: 1, 3924: 1, 1836: 1, 3429: 1, 1991: 1, 1842: 1, 1679: 1, 1302: 1, 3030: 1, 1547: 1, 2649: 1, 1023: 1, 1824: 1, 2854: 1, 2241: 1, 1875: 1, 2430: 1, 2744: 1, 2724: 1, 14592: 1, 4239: 1, 13539: 1, 850: 1, 2481: 1, 14713: 1, 13100: 1, 8069: 1, 3713: 1, 10737: 1, 7533: 1, 3160: 1, 2631: 1, 2222: 1, 15617: 1, 3859: 1, 2688: 1, 6962: 1, 2525: 1, 11941: 1, 3216: 1, 3630: 1, 13181: 1, 9286: 1, 5656: 1, 12454: 1, 4627: 1, 14431: 1, 8513: 1, 1901: 1, 14371: 1, 16492: 1, 4923: 1, 11250: 1, 8314: 1, 13956: 1, 4209: 1, 4468: 1, 3020: 1, 17209: 1, 12374: 1, 13607: 1, 2014: 1, 3799: 1, 7134: 1, 3617: 1, 3143: 1, 1823: 1, 16930: 1, 14833: 1, 3073: 1, 7973: 1, 12499: 1, 3679: 1, 16892: 1, 3410: 1, 12405: 1, 14987: 1, 1921: 1, 1794: 1, 988: 1, 3211: 1, 8525: 1, 10283: 1, 2403: 1, 1144: 1, 2163: 1, 10751: 1, 1217: 1, 4658: 1, 17119: 1, 5848: 1, 1830: 1, 1365: 1, 8173: 1, 1838: 1, 7219: 1, 659: 1, 9963: 1, 17169: 1, 17201: 1, 7178: 1, 9997: 1, 15449: 1, 1229: 1, 2186: 1, 1986: 1, 1627: 1, 904: 1, 7150: 1, 14482: 1, 2328: 1, 1591: 1, 190: 1, 2010: 1, 1275: 1, 13149: 1, 2630: 1, 1321: 1, 154: 1, 11461: 1, 8535: 1, 11193: 1, 9590: 1, 5717: 1, 2438: 1, 4980: 1, 12757: 1, 11727: 1, 8557: 1, 7114: 1, 15946: 1, 16241: 1, 7553: 1, 12522: 1, 9980: 1, 7440: 1, 11419: 1, 8779: 1, 15338: 1, 3580: 1, 3537: 1, 11477: 1, 11130: 1, 17348: 1, 7714: 1, 5329: 1, 16371: 1, 2638: 1, 6630: 1, 12819: 1, 15657: 1, 8703: 1, 17313: 1, 16483: 1, 3960: 1, 10241: 1, 7298: 1, 10400: 1, 3903: 1, 15112: 1, 6407: 1, 7075: 1, 6086: 1, 4095: 1, 6892: 1, 8846: 1, 8134: 1, 17222: 1, 9035: 1, 5361: 1, 3684: 1, 892: 1, 16043: 1, 12047: 1, 13706: 1, 10256: 1, 14188: 1, 11705: 1, 5919: 1, 10041: 1, 4690: 1, 9740: 1, 16018: 1, 3680: 1, 16115: 1, 13083: 1, 12376: 1, 15508: 1, 6169: 1, 16287: 1, 2731: 1, 14562: 1, 420: 1, 2226: 1, 16802: 1, 5232: 1, 11435: 1, 15077: 1, 15539: 1, 6201: 1, 2283: 1, 4139: 1, 9836: 1, 9795: 1, 11336: 1, 10838: 1, 11518: 1, 7139: 1, 6263: 1, 4877: 1, 10707: 1, 13500: 1, 9598: 1, 10355: 1, 2857: 1, 3570: 1, 15488: 1, 3019: 1, 1442: 1, 9818: 1, 16340: 1, 16094: 1, 8417: 1, 14572: 1, 10793: 1, 13431: 1, 3320: 1, 3105: 1, 5040: 1, 7455: 1, 15339: 1, 17194: 1, 13783: 1, 17074: 1, 7090: 1, 5369: 1, 8225: 1, 8200: 1, 9476: 1, 9411: 1, 13594: 1, 2526: 1, 14788: 1, 10378: 1, 4989: 1, 1286: 1, 2901: 1, 6551: 1, 2694: 1, 16865: 1, 15055: 1, 12027: 1, 3809: 1, 13515: 1, 15150: 1, 10754: 1, 4944: 1, 3071: 1, 303: 1, 750: 1, 166: 1, 1583: 1, 428: 1, 591: 1, 1865: 1, 12903: 1, 5423: 1, 3579: 1, 6375: 1, 2662: 1, 13862: 1, 16400: 1, 15364: 1, 4862: 1, 4903: 1, 11567: 1, 515: 1, 16807: 1, 12117: 1, 4182: 1, 11385: 1, 2097: 1, 13464: 1, 13555: 1, 11942: 1, 1796: 1, 1416: 1, 4409: 1, 16346: 1, 17288: 1, 8008: 1, 7944: 1, 17064: 1, 7792: 1, 2704: 1, 8037: 1, 3084: 1, 1039: 1, 9783: 1, 16657: 1, 7885: 1, 2003: 1, 7981: 1, 3475: 1, 9588: 1, 1629: 1, 17193: 1, 1716: 1, 8664: 1, 8503: 1, 7963: 1, 748: 1, 11753: 1, 1149: 1, 12821: 1, 5560: 1, 876: 1, 1390: 1, 5067: 1, 2353: 1, 14818: 1, 16127: 1, 4689: 1, 1636: 1, 5418: 1, 16220: 1, 3674: 1, 2124: 1, 17231: 1, 13393: 1, 6843: 1, 6180: 1, 16536: 1, 17058: 1, 3695: 1, 5410: 1, 2110: 1, 2572: 1, 14314: 1, 17320: 1, 14025: 1, 3218: 1, 3194: 1, 13251: 1, 1430: 1, 16012: 1, 2251: 1, 9441: 1, 16721: 1, 1772: 1, 15944: 1, 5968: 1, 1389: 1, 2321: 1, 3394: 1, 1259: 1, 2263: 1, 2253: 1, 2740: 1, 1793: 1, 1460: 1, 3491: 1, 1171: 1, 3428: 1, 1827: 1, 11168: 1, 1643: 1, 987: 1, 2710: 1, 1789: 1, 2920: 1, 2250: 1, 3649: 1, 2544: 1, 2279: 1, 5198: 1, 382: 1, 2192: 1, 284: 1, 269: 1, 1003: 1, 593: 1, 3079: 1, 3133: 1, 1136: 1, 2173: 1, 967: 1, 1989: 1, 2973: 1, 2185: 1, 1279: 1, 3623: 1, 2126: 1, 2287: 1, 4135: 1, 3100: 1, 954: 1, 300: 1, 2375: 1, 1847: 1, 2881: 1, 10660: 1, 1685: 1, 484: 1, 2310: 1, 2463: 1, 2479: 1, 14062: 1, 2607: 1, 1433: 1, 3001: 1, 1999: 1, 2826: 1, 2987: 1, 2023: 1, 1791: 1, 2673: 1, 1825: 1, 1331: 1, 613: 1, 1983: 1, 715: 1, 2656: 1, 12311: 1, 3459: 1, 1041: 1, 2476: 1, 885: 1, 2532: 1, 3469: 1, 6390: 1, 13524: 1, 2739: 1, 13960: 1, 1335: 1, 2781: 1, 4403: 1, 11052: 1, 13165: 1, 5590: 1, 2590: 1, 16138: 1, 9530: 1, 2830: 1, 6662: 1, 3278: 1, 6921: 1, 15251: 1, 1943: 1, 7020: 1, 10074: 1, 16019: 1, 10783: 1, 16184: 1, 5650: 1, 7230: 1, 11430: 1, 2947: 1, 8034: 1, 4792: 1, 16470: 1, 6455: 1, 12549: 1, 15788: 1, 9744: 1, 10527: 1, 5058: 1, 2493: 1, 12902: 1, 3112: 1, 660: 1, 15928: 1, 12035: 1, 17335: 1, 2511: 1, 4071: 1, 5979: 1, 1303: 1, 15068: 1, 9515: 1, 3420: 1, 2512: 1, 3169: 1, 2874: 1, 13131: 1, 917: 1, 1429: 1, 2650: 1, 282: 1, 13456: 1, 1663: 1, 214: 1, 1042: 1, 329: 1, 1717: 1, 2664: 1, 342: 1, 1562: 1, 3281: 1, 1595: 1, 406: 1, 205: 1, 14524: 1, 321: 1, 16266: 1, 357: 1, 2906: 1, 8316: 1, 1428: 1, 1372: 1, 11266: 1, 2591: 1, 15479: 1, 1859: 1, 1361: 1, 360: 1, 1670: 1, 15771: 1, 291: 1, 1031: 1, 13865: 1, 2370: 1, 4464: 1, 7207: 1, 11632: 1, 6051: 1, 17242: 1, 8085: 1, 9184: 1, 7721: 1, 8197: 1, 16256: 1, 5982: 1, 4180: 1, 16313: 1, 2828: 1, 3534: 1, 6025: 1, 2256: 1, 5739: 1, 13421: 1, 16716: 1, 1469: 1, 4160: 1, 3754: 1, 7401: 1, 13316: 1, 11093: 1, 5540: 1, 3331: 1, 16055: 1, 14710: 1, 5357: 1, 14098: 1, 4556: 1, 234: 1, 1539: 1, 5313: 1, 11144: 1, 6213: 1, 14432: 1, 11351: 1, 17294: 1, 5387: 1, 15478: 1, 12764: 1, 15570: 1, 12358: 1, 4078: 1, 12655: 1, 3192: 1, 11153: 1, 2794: 1, 1016: 1, 4564: 1, 1941: 1, 7946: 1, 6285: 1, 813: 1, 551: 1, 638: 1, 1178: 1, 828: 1, 509: 1, 2389: 1, 1392: 1, 1120: 1, 11282: 1, 14681: 1, 15689: 1, 11465: 1, 14757: 1, 9399: 1, 5088: 1, 13948: 1, 15660: 1, 3972: 1, 13675: 1, 16885: 1, 16578: 1, 9465: 1, 6831: 1, 4010: 1, 2812: 1, 11651: 1, 6336: 1, 15588: 1, 4013: 1, 13145: 1, 9632: 1, 8297: 1, 7817: 1, 4490: 1, 12426: 1, 4447: 1, 695: 1, 5699: 1, 5753: 1, 3504: 1, 11847: 1, 230: 1, 9290: 1, 3124: 1, 6005: 1, 2807: 1, 16288: 1, 13951: 1, 16854: 1, 2288: 1, 12333: 1, 2306: 1, 9014: 1, 12876: 1, 10202: 1, 14664: 1, 1815: 1, 16321: 1, 9528: 1, 15320: 1, 4583: 1, 17244: 1, 5644: 1, 8485: 1, 5111: 1, 2886: 1, 10153: 1, 1939: 1, 11547: 1, 17073: 1, 2482: 1, 16642: 1, 6297: 1, 5554: 1, 14198: 1, 15225: 1, 10158: 1, 11999: 1, 838: 1, 12031: 1, 8454: 1, 6191: 1, 2091: 1, 3646: 1, 4532: 1, 3301: 1, 8917: 1, 4406: 1, 15408: 1, 14749: 1, 8861: 1, 5786: 1, 8221: 1, 11840: 1, 16706: 1, 1516: 1, 15846: 1, 9756: 1, 14688: 1, 12002: 1, 12891: 1, 5230: 1, 15496: 1, 9896: 1, 6311: 1, 1976: 1, 11990: 1, 14547: 1, 16095: 1, 16333: 1, 11783: 1, 15887: 1, 3813: 1, 10496: 1, 396: 1, 16794: 1, 369: 1, 2260: 1, 7436: 1, 17032: 1, 605: 1, 16943: 1, 16955: 1, 1625: 1, 4621: 1, 390: 1, 15266: 1, 4881: 1, 4477: 1, 17329: 1, 14258: 1, 11967: 1, 15003: 1, 4427: 1, 16329: 1, 3672: 1, 12440: 1, 8753: 1, 15124: 1, 2461: 1, 188: 1, 538: 1, 7356: 1, 8945: 1, 16678: 1, 11595: 1, 5023: 1, 4535: 1, 7110: 1, 570: 1, 14785: 1, 17309: 1, 12176: 1, 1804: 1, 8094: 1, 15183: 1, 16232: 1, 17262: 1, 16635: 1, 12513: 1, 17178: 1, 11766: 1, 3424: 1, 17315: 1, 3516: 1, 5277: 1, 10116: 1, 3241: 1, 3687: 1, 15234: 1, 16038: 1, 5170: 1, 3322: 1, 15310: 1, 4799: 1, 890: 1, 4644: 1, 12246: 1, 3056: 1, 16249: 1, 5384: 1, 9082: 1, 6146: 1, 9642: 1, 5939: 1, 4917: 1, 1866: 1, 8522: 1, 12252: 1, 3548: 1, 10235: 1, 17188: 1, 2934: 1, 11340: 1, 7391: 1, 4019: 1, 1876: 1, 4714: 1, 13635: 1, 16363: 1, 3755: 1, 430: 1, 4539: 1, 16732: 1, 14316: 1, 6657: 1, 12628: 1, 4165: 1, 13266: 1, 12932: 1, 7146: 1, 7786: 1, 10109: 1, 5320: 1, 4352: 1, 15365: 1, 16320: 1, 12961: 1, 15562: 1, 821: 1, 12685: 1, 12944: 1, 4302: 1, 6458: 1, 13727: 1, 14739: 1, 16375: 1, 9714: 1, 6056: 1, 4570: 1, 12897: 1, 8211: 1, 9562: 1, 16659: 1, 5822: 1, 2998: 1, 236: 1, 1881: 1, 1662: 1, 8582: 1, 15628: 1, 16993: 1, 11289: 1, 16671: 1, 16893: 1, 10782: 1, 15400: 1, 16229: 1, 2474: 1, 14103: 1, 7369: 1, 16777: 1, 8042: 1, 4229: 1, 6234: 1, 11685: 1, 2994: 1, 2954: 1, 13282: 1, 7726: 1, 7917: 1, 8949: 1, 11762: 1, 8863: 1, 13459: 1, 10921: 1, 15065: 1, 11885: 1, 14102: 1, 16610: 1, 12063: 1, 8511: 1, 17164: 1, 10906: 1, 5894: 1, 7028: 1, 14808: 1, 7101: 1, 12049: 1, 3454: 1, 13571: 1, 17325: 1, 395: 1, 6866: 1, 10897: 1, 11512: 1, 7045: 1, 6211: 1, 7243: 1, 15283: 1, 2912: 1, 3778: 1, 2322: 1, 6254: 1, 13693: 1, 12228: 1, 6815: 1, 1993: 1, 16129: 1, 9112: 1, 16811: 1, 15723: 1, 3289: 1, 12556: 1, 15701: 1, 2037: 1, 15109: 1, 15322: 1, 6582: 1, 9622: 1, 11142: 1, 6542: 1, 9172: 1, 10705: 1, 235: 1, 16603: 1, 11830: 1, 16425: 1, 13563: 1, 12099: 1, 14002: 1, 10637: 1, 16724: 1, 16910: 1, 15649: 1, 11579: 1, 15688: 1, 15969: 1, 9146: 1, 11939: 1, 5105: 1, 1726: 1, 13605: 1, 14372: 1, 2728: 1, 12375: 1, 4819: 1, 6894: 1, 14971: 1, 16143: 1, 7451: 1, 10989: 1, 16687: 1, 13475: 1, 8308: 1, 16849: 1, 16424: 1, 11749: 1, 17291: 1, 8497: 1, 7397: 1, 16078: 1, 7632: 1, 11544: 1, 15129: 1, 11161: 1, 5855: 1, 5945: 1, 15783: 1, 2837: 1, 5984: 1, 15236: 1, 15553: 1, 3720: 1, 9051: 1, 9278: 1, 7694: 1, 7587: 1, 11823: 1, 3472: 1, 4262: 1, 15158: 1, 14822: 1, 9306: 1, 17092: 1, 13873: 1, 16968: 1, 11631: 1, 5794: 1, 8544: 1, 17350: 1, 13455: 1, 8960: 1, 15297: 1, 10016: 1, 17137: 1, 3742: 1, 14351: 1, 12391: 1, 8642: 1, 13818: 1, 11808: 1, 4851: 1, 4237: 1, 3927: 1, 9414: 1, 6256: 1, 9957: 1, 2893: 1, 13534: 1, 9077: 1, 2156: 1, 16186: 1, 6003: 1, 5489: 1, 6860: 1, 8438: 1, 11787: 1, 16752: 1, 15253: 1, 2793: 1, 12479: 1, 17059: 1, 6144: 1, 3111: 1, 2595: 1, 15828: 1, 3200: 1, 9010: 1, 8759: 1, 10090: 1, 6891: 1, 16514: 1, 3587: 1, 7388: 1, 7308: 1, 1575: 1, 7123: 1, 10240: 1, 11628: 1, 7152: 1, 407: 1, 10952: 1, 14804: 1, 6859: 1, 11058: 1, 15187: 1, 7479: 1, 11167: 1, 12022: 1, 8722: 1, 15782: 1, 13414: 1, 14802: 1, 16477: 1, 14601: 1, 16139: 1, 1464: 1, 2293: 1, 15291: 1, 17271: 1, 3606: 1, 355: 1, 9522: 1, 13035: 1, 16654: 1, 3657: 1, 16037: 1, 16593: 1, 1451: 1, 4060: 1, 9249: 1, 16049: 1, 10044: 1, 13906: 1, 10568: 1, 1513: 1, 2053: 1, 2412: 1, 17009: 1, 11803: 1, 11322: 1, 11622: 1, 9368: 1, 5808: 1, 1320: 1, 6304: 1, 1526: 1, 14561: 1, 15577: 1, 10081: 1, 400: 1, 7171: 1, 1083: 1, 14691: 1, 11251: 1, 14474: 1, 859: 1, 16747: 1, 6096: 1, 14537: 1, 4399: 1, 9600: 1, 8003: 1, 1161: 1, 2278: 1, 3865: 1, 4057: 1, 13095: 1, 7484: 1, 5408: 1, 4085: 1, 9181: 1, 11106: 1, 11898: 1, 5498: 1, 3957: 1, 1476: 1, 1751: 1, 9085: 1, 7209: 1, 13756: 1, 8208: 1, 6634: 1, 4494: 1, 16677: 1, 1780: 1, 16110: 1, 10315: 1, 7093: 1, 11728: 1, 15841: 1, 10595: 1, 2798: 1, 5055: 1, 3248: 1, 16722: 1, 4218: 1, 4861: 1, 16263: 1, 11128: 1, 7516: 1, 6905: 1, 6094: 1, 2565: 1, 12965: 1, 3601: 1, 13309: 1, 14106: 1, 11100: 1, 6202: 1, 3456: 1, 10274: 1, 3341: 1, 2752: 1, 6255: 1, 12008: 1, 9185: 1, 5916: 1, 15443: 1, 6711: 1, 12389: 1, 6670: 1, 2423: 1, 15199: 1, 15027: 1, 15835: 1, 15998: 1, 11712: 1, 15460: 1, 8167: 1, 16051: 1, 15625: 1, 12550: 1, 4372: 1, 6313: 1, 13493: 1, 13204: 1, 15829: 1, 14721: 1, 16500: 1, 2574: 1, 2261: 1, 661: 1, 8504: 1, 4853: 1, 5707: 1, 13198: 1, 3545: 1, 11115: 1, 16938: 1, 11943: 1, 2600: 1, 12884: 1, 11272: 1, 10318: 1, 8562: 1, 6931: 1, 1357: 1, 9644: 1, 8973: 1, 16106: 1, 566: 1, 4826: 1, 5032: 1, 2831: 1, 11657: 1, 15552: 1, 1735: 1, 4992: 1, 5565: 1, 15667: 1, 16961: 1, 5005: 1, 6787: 1, 16768: 1, 15904: 1, 2789: 1, 10931: 1, 2350: 1, 16764: 1, 10133: 1, 15254: 1, 1381: 1, 2359: 1, 8527: 1, 8627: 1, 14026: 1, 11318: 1, 13516: 1, 10363: 1, 16281: 1, 9867: 1, 13290: 1, 2510: 1, 3758: 1, 12432: 1, 13220: 1, 8534: 1, 3666: 1, 16853: 1, 11909: 1, 3212: 1, 13703: 1, 8672: 1, 265: 1, 12006: 1, 3721: 1, 15433: 1, 17039: 1, 1231: 1, 14354: 1, 7095: 1, 16159: 1, 7505: 1, 3765: 1, 16748: 1, 2459: 1, 15394: 1, 16883: 1, 11474: 1, 17116: 1, 7138: 1, 15907: 1, 4242: 1, 2039: 1, 4914: 1, 7100: 1, 8585: 1, 1806: 1, 2984: 1, 1064: 1, 6366: 1, 13072: 1, 4042: 1, 478: 1, 9624: 1, 15106: 1, 16227: 1, 8499: 1, 3316: 1, 7701: 1, 13722: 1, 15483: 1, 4581: 1, 2919: 1, 13664: 1, 12168: 1, 7938: 1, 1376: 1, 15548: 1, 11919: 1, 5595: 1, 5535: 1, 17114: 1, 7800: 1, 6436: 1, 12772: 1, 2155: 1, 5266: 1, 15154: 1, 15941: 1, 10114: 1, 15284: 1, 13209: 1, 6930: 1, 11045: 1, 9548: 1, 927: 1, 17122: 1, 16344: 1, 15074: 1, 9017: 1, 9855: 1, 3120: 1, 16414: 1, 6377: 1, 15704: 1, 17251: 1, 15082: 1, 7492: 1, 6269: 1, 2349: 1, 15078: 1, 13332: 1, 3764: 1, 11559: 1, 6658: 1, 2276: 1, 11976: 1, 16087: 1, 11152: 1, 12541: 1, 12464: 1, 14899: 1, 7987: 1, 5352: 1, 6838: 1, 16336: 1, 6280: 1, 5809: 1, 10332: 1, 15171: 1, 17300: 1, 10780: 1, 6147: 1, 12688: 1, 10910: 1, 5308: 1, 14557: 1, 14589: 1, 8962: 1, 9151: 1, 2373: 1, 15010: 1, 11475: 1, 6232: 1, 10108: 1, 7201: 1, 16354: 1, 15110: 1, 10112: 1, 5805: 1, 4625: 1, 14321: 1, 8448: 1, 9299: 1, 5898: 1, 8937: 1, 7754: 1, 5666: 1, 13577: 1, 15537: 1, 9128: 1, 13880: 1, 14375: 1, 13772: 1, 8520: 1, 6912: 1, 16088: 1, 16631: 1, 12068: 1, 8705: 1, 10443: 1, 9336: 1, 16597: 1, 6993: 1, 7089: 1, 14125: 1, 2341: 1, 3215: 1, 9373: 1, 314: 1, 13052: 1, 14401: 1, 17257: 1, 6771: 1, 17342: 1, 5347: 1, 11630: 1, 2895: 1, 2418: 1, 3483: 1, 15401: 1, 4295: 1, 2717: 1, 4642: 1, 15198: 1, 7016: 1, 4400: 1, 14353: 1, 13704: 1, 11120: 1, 9931: 1, 8122: 1, 1900: 1, 7497: 1, 14888: 1, 16740: 1, 5653: 1, 13399: 1, 11573: 1, 7867: 1, 17273: 1, 8833: 1, 10735: 1, 16413: 1, 2508: 1, 15929: 1, 944: 1, 10706: 1, 4248: 1, 8466: 1, 8078: 1, 11401: 1, 6514: 1, 1111: 1, 14333: 1, 4596: 1, 14493: 1, 1300: 1, 4584: 1, 6863: 1, 14886: 1, 8921: 1, 10174: 1, 5307: 1, 12916: 1, 3161: 1, 16225: 1, 3136: 1, 8985: 1, 16066: 1, 15399: 1, 14958: 1, 13526: 1, 16303: 1, 17210: 1, 8489: 1, 10061: 1, 15793: 1, 10672: 1, 4450: 1, 7614: 1, 5073: 1, 17253: 1, 6230: 1, 10654: 1, 8709: 1, 15756: 1, 9462: 1, 3716: 1, 16075: 1, 14006: 1, 16683: 1, 16929: 1, 13174: 1, 2972: 1, 13716: 1, 6566: 1, 6066: 1, 6101: 1, 10062: 1, 4610: 1, 14864: 1, 16629: 1, 15398: 1, 12404: 1, 1821: 1, 15964: 1, 2075: 1, 6467: 1, 12421: 1, 10974: 1, 11907: 1, 11083: 1, 16278: 1, 4327: 1, 16695: 1, 15710: 1, 13826: 1, 853: 1, 5616: 1, 12992: 1, 10865: 1, 3348: 1, 2071: 1, 13144: 1, 10021: 1, 5353: 1, 3900: 1, 13823: 1, 3251: 1, 3101: 1, 16305: 1, 8574: 1, 14345: 1, 7849: 1, 3835: 1, 6342: 1, 14815: 1, 16429: 1, 16673: 1, 8210: 1, 15697: 1, 1708: 1, 557: 1, 5115: 1, 16463: 1, 4304: 1, 15845: 1, 3771: 1, 17345: 1, 1877: 1, 9479: 1, 9547: 1, 15607: 1, 15521: 1, 16178: 1, 5469: 1, 6845: 1, 10038: 1, 1871: 1, 6347: 1, 16565: 1, 2957: 1, 2811: 1, 587: 1, 16146: 1, 17080: 1, 16886: 1, 6915: 1, 4176: 1, 15286: 1, 8880: 1, 5756: 1, 6443: 1, 13260: 1, 17243: 1, 3946: 1, 17089: 1, 2150: 1, 16890: 1, 3515: 1, 5098: 1, 7173: 1, 14811: 1, 2968: 1, 1531: 1, 565: 1, 4754: 1, 17002: 1, 11600: 1, 15312: 1, 4120: 1, 5572: 1, 15389: 1, 5937: 1, 14676: 1, 3069: 1, 8639: 1, 8594: 1, 7940: 1, 7865: 1, 1503: 1, 11683: 1, 17259: 1, 8783: 1, 16005: 1, 10869: 1, 5468: 1, 9215: 1, 10247: 1, 13799: 1, 5236: 1, 679: 1, 3149: 1, 16648: 1, 3299: 1, 10492: 1, 6277: 1, 13864: 1, 13092: 1, 16120: 1, 6964: 1, 4151: 1, 9056: 1, 2411: 1, 11326: 1, 4597: 1, 10722: 1, 10720: 1, 10471: 1, 14921: 1, 3336: 1, 7712: 1, 4455: 1, 7989: 1, 16071: 1, 9874: 1, 8806: 1, 11203: 1, 5451: 1, 15117: 1, 17268: 1, 16902: 1, 8184: 1, 16698: 1, 9647: 1, 8742: 1, 11416: 1, 8739: 1, 10966: 1, 2045: 1, 2950: 1, 6485: 1, 17225: 1, 902: 1, 13078: 1, 14665: 1, 386: 1, 16337: 1, 4376: 1, 15345: 1, 12446: 1, 7262: 1, 886: 1, 16821: 1, 7206: 1, 7242: 1, 8392: 1, 2207: 1, 12103: 1, 2727: 1, 14394: 1, 13171: 1, 2746: 1, 16279: 1, 6847: 1, 4525: 1, 6268: 1, 2340: 1, 13160: 1, 11677: 1, 4189: 1, 4695: 1, 14626: 1, 8974: 1, 3801: 1, 5538: 1, 14155: 1, 16076: 1, 12368: 1, 2670: 1, 16829: 1, 14489: 1, 2242: 1, 14515: 1, 10506: 1, 1336: 1, 10317: 1, 5339: 1, 3029: 1, 2442: 1, 2029: 1, 17141: 1, 498: 1, 9389: 1, 13263: 1, 7082: 1, 3026: 1, 15781: 1, 823: 1, 1722: 1, 12118: 1, 12866: 1, 15519: 1, 1348: 1, 925: 1, 6301: 1, 15609: 1, 4593: 1, 6945: 1, 10168: 1, 1651: 1, 712: 1, 9656: 1, 5076: 1, 12857: 1, 9899: 1, 6739: 1, 7187: 1, 9288: 1, 11884: 1, 6452: 1, 11457: 1, 12424: 1, 11136: 1, 11856: 1, 12402: 1, 13239: 1, 10515: 1, 8677: 1, 2227: 1, 12061: 1, 6632: 1, 11744: 1, 12274: 1, 9865: 1, 10105: 1, 9439: 1, 15159: 1, 9752: 1, 10918: 1, 13732: 1, 13599: 1, 13193: 1, 14040: 1, 8044: 1, 12122: 1, 10296: 1, 2589: 1, 16392: 1, 4162: 1, 839: 1, 11244: 1, 7185: 1, 12361: 1, 8993: 1, 5401: 1, 3238: 1, 17250: 1, 12647: 1, 13590: 1, 12873: 1, 12964: 1, 14411: 1, 16025: 1, 10710: 1, 11666: 1, 12086: 1, 12225: 1, 12803: 1, 9364: 1, 10143: 1, 13610: 1, 5624: 1, 11929: 1, 9264: 1, 10260: 1, 12596: 1, 4452: 1, 10431: 1, 6495: 1, 14810: 1, 8744: 1, 13641: 1, 6465: 1, 11965: 1, 14393: 1, 12177: 1, 12826: 1, 10678: 1, 5392: 1, 12130: 1, 12332: 1, 9521: 1, 12880: 1, 13614: 1, 8799: 1, 7098: 1, 12383: 1, 10708: 1, 12705: 1, 4361: 1, 10083: 1, 4470: 1, 6528: 1, 4947: 1, 6236: 1, 7839: 1, 6541: 1, 7879: 1, 7928: 1, 5004: 1, 9819: 1, 17258: 1, 12914: 1, 11206: 1, 11017: 1, 3660: 1, 4702: 1, 12009: 1, 14529: 1, 13143: 1, 12055: 1, 3501: 1, 7564: 1, 6844: 1, 7684: 1, 4706: 1, 5715: 1, 8593: 1, 10325: 1, 9375: 1, 9436: 1, 13127: 1, 12532: 1, 13273: 1, 12114: 1, 9382: 1, 11405: 1, 16738: 1, 7012: 1, 12722: 1, 16072: 1, 15820: 1, 9747: 1, 12999: 1, 15940: 1, 3700: 1, 15256: 1, 14413: 1, 16690: 1, 14574: 1, 10829: 1, 7189: 1, 8528: 1, 1925: 1, 13660: 1, 8156: 1, 15346: 1, 8376: 1, 11846: 1, 3208: 1, 13638: 1, 13527: 1, 1718: 1, 5958: 1, 12180: 1, 3584: 1, 11187: 1, 14645: 1, 16440: 1, 15461: 1, 2183: 1, 15894: 1, 13999: 1, 11427: 1, 2927: 1, 11112: 1, 662: 1, 3774: 1, 5476: 1, 8944: 1, 9700: 1, 5211: 1, 3197: 1, 14334: 1, 15812: 1, 7062: 1, 13843: 1, 4110: 1, 7833: 1, 5275: 1, 12792: 1, 6170: 1, 11424: 1, 8981: 1, 13647: 1, 3673: 1, 15419: 1, 9970: 1, 1434: 1, 4731: 1, 3779: 1, 14859: 1, 4512: 1, 10119: 1, 4603: 1, 8079: 1, 16918: 1, 5667: 1, 5178: 1, 6242: 1, 7558: 1, 9140: 1, 2113: 1, 8743: 1, 3108: 1, 2585: 1, 6341: 1, 4368: 1, 1819: 1, 6359: 1, 6899: 1, 7825: 1, 2955: 1, 15133: 1, 2619: 1, 7385: 1, 4039: 1, 7066: 1, 3834: 1, 4848: 1, 13671: 1, 6218: 1, 11237: 1, 8048: 1, 7044: 1, 3319: 1, 1668: 1, 5829: 1, 4683: 1, 7015: 1, 307: 1, 6505: 1, 14180: 1, 16846: 1, 2409: 1, 7713: 1, 11202: 1, 8556: 1, 4902: 1, 3850: 1, 13828: 1, 7750: 1, 6608: 1, 3166: 1, 5745: 1, 1917: 1, 3593: 1, 4752: 1, 8234: 1, 10791: 1, 7926: 1, 9757: 1, 14635: 1, 7797: 1, 11397: 1, 16959: 1, 14269: 1, 7050: 1, 8324: 1, 12552: 1, 9383: 1, 10201: 1, 2661: 1, 10507: 1, 11956: 1, 2427: 1, 5480: 1, 3165: 1, 7774: 1, 4344: 1, 16598: 1, 14686: 1, 5504: 1, 5588: 1, 12123: 1, 4436: 1, 5160: 1, 3395: 1, 10594: 1, 13608: 1, 15911: 1, 14167: 1, 9579: 1, 5441: 1, 11134: 1, 8401: 1, 17319: 1, 10773: 1, 12768: 1, 17183: 1, 12512: 1, 1196: 1, 11018: 1, 2836: 1, 17276: 1, 10214: 1, 6520: 1, 16083: 1, 7221: 1, 13047: 1, 1528: 1, 4963: 1, 9052: 1, 10538: 1, 13760: 1, 8098: 1, 5652: 1, 13587: 1, 3280: 1, 6638: 1, 5096: 1, 15920: 1, 6635: 1, 11841: 1, 8441: 1, 11482: 1, 7501: 1, 9384: 1, 15396: 1, 11834: 1, 2085: 1, 15062: 1, 5295: 1, 5284: 1, 4558: 1, 4438: 1, 11129: 1, 10181: 1, 3325: 1, 11693: 1, 7586: 1, 6482: 1, 2918: 1, 15233: 1, 13090: 1, 13778: 1, 1175: 1, 16895: 1, 6527: 1, 7924: 1, 3222: 1, 4933: 1, 9247: 1, 14136: 1, 2604: 1, 3342: 1, 7719: 1, 13522: 1, 6875: 1, 14015: 1, 5571: 1, 4045: 1, 14151: 1, 3940: 1, 2468: 1, 5061: 1, 6916: 1, 1646: 1, 4279: 1, 7264: 1, 5706: 1, 17145: 1, 2410: 1, 2426: 1, 4334: 1, 9945: 1, 5398: 1, 6105: 1, 4138: 1, 12292: 1, 4800: 1, 15592: 1, 16693: 1, 15861: 1, 3682: 1, 3625: 1, 8604: 1, 4116: 1, 5824: 1, 4688: 1, 3046: 1, 14381: 1, 9794: 1, 7094: 1, 16163: 1, 3514: 1, 4617: 1, 16858: 1, 16776: 1, 8631: 1, 9468: 1, 11571: 1, 4867: 1, 9648: 1, 17310: 1, 12329: 1, 14132: 1, 4701: 1, 14587: 1, 4459: 1, 6640: 1, 1400: 1, 6653: 1, 11105: 1, 3520: 1, 2054: 1, 9961: 1, 7409: 1, 11398: 1, 12505: 1, 15780: 1, 17161: 1, 16156: 1, 14617: 1, 17295: 1, 16833: 1, 17260: 1, 12242: 1, 17048: 1, 13265: 1, 16755: 1, 16473: 1, 8183: 1, 14832: 1, 16708: 1, 16468: 1, 16112: 1, 13562: 1, 11951: 1, 14953: 1, 14457: 1, 8272: 1, 14107: 1, 14609: 1, 14183: 1, 15773: 1, 15049: 1, 13990: 1, 9263: 1, 15974: 1, 15263: 1, 15057: 1, 15926: 1, 15634: 1, 14511: 1, 15615: 1, 15008: 1, 16050: 1, 14955: 1, 14610: 1, 14452: 1, 17199: 1, 9351: 1, 14111: 1, 16847: 1, 16092: 1, 14079: 1, 15632: 1, 13128: 1, 17132: 1, 14952: 1, 16247: 1, 14553: 1, 15229: 1, 15949: 1, 15265: 1, 13911: 1, 16206: 1, 16739: 1, 14712: 1, 15908: 1, 14584: 1, 15026: 1, 16443: 1, 14298: 1, 17001: 1, 15694: 1, 15902: 1, 17008: 1, 13680: 1, 16919: 1, 13427: 1, 14813: 1, 14478: 1, 13136: 1, 16464: 1, 16760: 1, 13807: 1, 14051: 1, 14280: 1, 17066: 1, 16527: 1, 13180: 1, 12060: 1, 15605: 1, 3302: 1, 15983: 1, 17287: 1, 14254: 1, 15915: 1, 13878: 1, 14462: 1, 15134: 1, 14737: 1, 12507: 1, 2810: 1, 13652: 1, 16035: 1, 4215: 1, 5156: 1, 7706: 1, 3315: 1, 16486: 1, 3911: 1, 15889: 1, 2766: 1, 3592: 1, 2031: 1, 16953: 1, 3195: 1, 3710: 1, 10054: 1, 8698: 1, 5425: 1, 2485: 1, 3762: 1, 15528: 1, 15220: 1, 5242: 1, 2347: 1, 4140: 1, 4380: 1, 2248: 1, 3752: 1, 3893: 1, 11924: 1, 4973: 1, 3189: 1, 12334: 1, 8027: 1, 14195: 1, 6060: 1, 2821: 1, 4489: 1, 4319: 1, 3135: 1, 8615: 1, 9111: 1, 17202: 1, 4337: 1, 6331: 1, 3505: 1, 13856: 1, 3551: 1, 10877: 1, 2703: 1, 5886: 1, 5723: 1, 8116: 1, 7124: 1, 7571: 1, 5838: 1, 8104: 1, 13490: 1, 4443: 1, 13918: 1, 1468: 1, 6895: 1, 10894: 1, 7069: 1, 4283: 1, 14798: 1, 4900: 1, 3012: 1, 2072: 1, 3603: 1, 3740: 1, 3671: 1, 2200: 1, 10495: 1, 4055: 1, 11458: 1, 5494: 1, 5151: 1, 2416: 1, 7084: 1, 7968: 1, 1604: 1, 5499: 1, 9702: 1, 11331: 1, 5870: 1, 1750: 1, 7343: 1, 3726: 1, 8568: 1, 3895: 1, 5444: 1, 5724: 1, 992: 1, 16907: 1, 12751: 1, 4129: 1, 17246: 1, 5382: 1, 15679: 1, 5917: 1, 11961: 1, 2612: 1, 2748: 1, 13349: 1, 11057: 1, 16538: 1, 6002: 1, 7880: 1, 6475: 1, 4812: 1, 17277: 1, 2605: 1, 1680: 1, 2436: 1, 6379: 1, 10375: 1, 11776: 1, 12959: 1, 2805: 1, 5728: 1, 548: 1, 13408: 1, 3864: 1, 15168: 1, 14173: 1, 15313: 1, 4383: 1, 6343: 1, 9358: 1, 3963: 1, 3417: 1, 2765: 1, 13076: 1, 16564: 1, 12648: 1, 16045: 1, 10334: 1, 11771: 1, 5348: 1, 14282: 1, 14476: 1, 5541: 1, 1785: 1, 14202: 1, 15471: 1, 14213: 1, 2924: 1, 11036: 1, 4053: 1, 15968: 1, 2770: 1, 8819: 1, 2922: 1, 15079: 1, 14636: 1, 13844: 1, 997: 1, 984: 1, 5009: 1, 6554: 1, 1244: 1, 4163: 1, 6929: 1, 13360: 1, 4122: 1, 6951: 1, 4615: 1, 10396: 1, 6824: 1, 1843: 1, 2795: 1, 958: 1, 5807: 1, 4158: 1, 13238: 1, 5988: 1, 13966: 1, 14663: 1, 619: 1, 4354: 1, 3245: 1, 6193: 1, 13120: 1, 8655: 1, 6765: 1, 3452: 1, 2270: 1, 2560: 1, 11817: 1, 15244: 1, 15031: 1, 16355: 1, 15715: 1, 11638: 1, 1184: 1, 15293: 1, 6021: 1, 1119: 1, 4253: 1, 8188: 1, 12575: 1, 3904: 1, 4005: 1, 11239: 1, 10626: 1, 8342: 1, 1964: 1, 15540: 1, 12155: 1, 14531: 1, 5784: 1, 12558: 1, 9732: 1, 1578: 1, 11484: 1, 4366: 1, 5840: 1, 11464: 1, 1725: 1, 12328: 1, 5526: 1, 12998: 1, 16475: 1, 6740: 1, 4333: 1, 4660: 1, 9178: 1, 15803: 1, 3186: 1, 10331: 1, 198: 1, 5737: 1, 8916: 1, 6185: 1, 10347: 1, 5758: 1, 12865: 1, 9871: 1, 14081: 1, 2488: 1, 454: 1, 8905: 1, 8909: 1, 2453: 1, 13773: 1, 8168: 1, 7520: 1, 13737: 1, 3140: 1, 13396: 1, 2002: 1, 11910: 1, 10485: 1, 2018: 1, 2823: 1, 11207: 1, 11872: 1, 8261: 1, 9195: 1, 13032: 1, 6713: 1, 11034: 1, 13142: 1, 8080: 1, 13884: 1, 8062: 1, 3975: 1, 10970: 1, 2446: 1, 10227: 1, 6496: 1, 11150: 1, 8205: 1, 12184: 1, 9806: 1, 15518: 1, 12441: 1, 1296: 1, 6792: 1, 7796: 1, 15247: 1, 5888: 1, 8194: 1, 11021: 1, 3511: 1, 8298: 1, 7441: 1, 6526: 1, 11875: 1, 5966: 1, 8203: 1, 7507: 1, 480: 1, 2655: 1, 9268: 1, 13926: 1, 13838: 1, 16155: 1, 12489: 1, 8870: 1, 16759: 1, 7974: 1, 12330: 1, 6027: 1, 16218: 1, 7730: 1, 4284: 1, 4227: 1, 12935: 1, 9501: 1, 10282: 1, 11724: 1, 12236: 1, 13326: 1, 11881: 1, 15559: 1, 14197: 1, 5810: 1, 12387: 1, 7939: 1, 12042: 1, 6543: 1, 9693: 1, 3973: 1, 10356: 1, 6198: 1, 8174: 1, 14870: 1, 13961: 1, 11932: 1, 17026: 1, 8063: 1, 13152: 1, 9650: 1, 5614: 1, 7267: 1, 7452: 1, 14509: 1, 9734: 1, 4174: 1, 5676: 1, 2487: 1, 2249: 1, 5012: 1, 12797: 1, 17029: 1, 11871: 1, 5869: 1, 15042: 1, 11554: 1, 4316: 1, 14902: 1, 4131: 1, 10785: 1, 6476: 1, 16466: 1, 4276: 1, 11609: 1, 11931: 1, 6317: 1, 12715: 1, 8107: 1, 3706: 1, 5238: 1, 6427: 1, 16586: 1, 13267: 1, 13458: 1, 7581: 1, 12050: 1, 15354: 1, 9681: 1, 5791: 1, 3930: 1, 14343: 1, 15028: 1, 11022: 1, 5402: 1, 4813: 1, 8336: 1, 7142: 1, 15180: 1, 8543: 1, 16765: 1, 14315: 1, 3097: 1, 11796: 1, 5155: 1, 7933: 1, 5778: 1, 13133: 1, 13485: 1, 13419: 1, 13855: 1, 4391: 1, 7316: 1, 14363: 1, 10219: 1, 9543: 1, 14835: 1, 9639: 1, 1276: 1, 7001: 1, 13720: 1, 3054: 1, 12599: 1, 13580: 1, 2598: 1, 9227: 1, 2928: 1, 2900: 1, 11467: 1, 4871: 1, 10244: 1, 8859: 1, 8051: 1, 7420: 1, 1869: 1, 6927: 1, 5593: 1, 3913: 1, 2672: 1, 5862: 1, 5375: 1, 11897: 1, 11004: 1, 8115: 1, 10811: 1, 2464: 1, 2398: 1, 1862: 1, 5843: 1, 3984: 1, 13124: 1, 6952: 1, 12229: 1, 13967: 1, 8335: 1, 12369: 1, 15802: 1, 4106: 1, 9679: 1, 5120: 1, 4894: 1, 5102: 1, 15174: 1, 2701: 1, 15022: 1, 3648: 1, 7252: 1, 1369: 1, 2302: 1, 11060: 1, 4184: 1, 9830: 1, 5219: 1, 10308: 1, 5396: 1, 16192: 1, 12467: 1, 8084: 1, 14247: 1, 12785: 1, 2098: 1, 8986: 1, 6388: 1, 5792: 1, 2460: 1, 12498: 1, 4809: 1, 7125: 1, 2491: 1, 15360: 1, 12675: 1, 4751: 1, 7463: 1, 6216: 1, 9510: 1, 6082: 1, 9408: 1, 6034: 1, 2497: 1, 5065: 1, 13780: 1, 9087: 1, 3206: 1, 13628: 1, 10051: 1, 2758: 1, 16351: 1, 6367: 1, 13922: 1, 6702: 1, 11300: 1, 12436: 1, 2899: 1, 7411: 1, 1220: 1, 4631: 1, 11708: 1, 11989: 1, 3558: 1, 2231: 1, 9554: 1, 16665: 1, 7823: 1, 7517: 1, 3855: 1, 6990: 1, 5856: 1, 8856: 1, 11773: 1, 5084: 1, 4292: 1, 3126: 1, 11235: 1, 13234: 1, 6228: 1, 8888: 1, 10362: 1, 13082: 1, 9861: 1, 10729: 1, 13928: 1, 7606: 1, 6553: 1, 5208: 1, 3814: 1, 11264: 1, 8147: 1, 13105: 1, 3033: 1, 13228: 1, 1797: 1, 11804: 1, 5171: 1, 13336: 1, 6401: 1, 12112: 1, 11758: 1, 14317: 1, 4124: 1, 10030: 1, 9316: 1, 14286: 1, 2756: 1, 4769: 1, 15595: 1, 6120: 1, 8813: 1, 3016: 1, 4777: 1, 4510: 1, 13051: 1, 8728: 1, 3307: 1, 9545: 1, 2345: 1, 9960: 1, 16719: 1, 10790: 1, 11925: 1, 5300: 1, 16193: 1, 9529: 1, 17184: 1, 3908: 1, 2504: 1, 3521: 1, 11681: 1, 2262: 1, 13366: 1, 1409: 1, 3650: 1, 4175: 1, 13325: 1, 15142: 1, 10792: 1, 4439: 1, 10799: 1, 5322: 1, 4072: 1, 12653: 1, 3051: 1, 6801: 1, 16226: 1, 12480: 1, 12372: 1, 9893: 1, 8293: 1, 5452: 1, 6071: 1, 1485: 1, 4096: 1, 5626: 1, 9573: 1, 16417: 1, 10956: 1, 13202: 1, 6705: 1, 14668: 1, 14301: 1, 6517: 1, 12410: 1, 9989: 1, 12215: 1, 816: 1, 8226: 1, 10888: 1, 6432: 1, 14299: 1, 12811: 1, 9091: 1, 14823: 1, 12417: 1, 13227: 1, 2059: 1, 4332: 1, 12056: 1, 3382: 1, 2876: 1, 2198: 1, 5519: 1, 6449: 1, 10932: 1, 13467: 1, 10141: 1, 8834: 1, 5492: 1, 14214: 1, 15684: 1, 15114: 1, 7444: 1, 9302: 1, 2782: 1, 5419: 1, 2699: 1, 5276: 1, 7459: 1, 10012: 1, 5682: 1, 1546: 1, 17124: 1, 16015: 1, 15222: 1, 1418: 1, 15987: 1, 15167: 1, 12025: 1, 17212: 1, 14933: 1, 14915: 1, 9460: 1, 16080: 1, 9587: 1, 15741: 1, 15481: 1, 14458: 1, 11314: 1, 9523: 1, 14803: 1, 13861: 1, 13887: 1, 13123: 1, 15813: 1, 17063: 1, 17038: 1, 10245: 1, 14311: 1, 16949: 1, 15231: 1, 9985: 1, 5815: 1, 2425: 1, 15776: 1, 5951: 1, 16153: 1, 6919: 1, 16345: 1, 15121: 1, 16028: 1, 6194: 1, 9900: 1, 16954: 1, 10771: 1, 16670: 1, 8144: 1, 14513: 1, 1301: 1, 15665: 1, 14288: 1, 1961: 1, 13748: 1, 5036: 1, 13598: 1, 12461: 1, 16702: 1, 12706: 1, 15663: 1, 16384: 1, 16737: 1, 7194: 1, 7953: 1, 10210: 1, 14651: 1, 16855: 1, 7220: 1, 15767: 1, 12926: 1, 15892: 1, 13984: 1, 17234: 1, 7575: 1, 15790: 1, 6877: 1, 4637: 1, 4002: 1, 6019: 1, 7014: 1, 16160: 1, 10938: 1, 3926: 1, 16217: 1, 10199: 1, 9511: 1, 4667: 1, 13971: 1, 13830: 1, 3055: 1, 11275: 1, 2773: 1, 8662: 1, 1263: 1, 5812: 1, 5663: 1, 7976: 1, 11736: 1, 4928: 1, 8826: 1, 4483: 1, 2070: 1, 12780: 1, 15279: 1, 4561: 1, 9525: 1, 4864: 1, 15145: 1, 6259: 1, 6537: 1, 13784: 1, 6573: 1, 8235: 1, 9335: 1, 5996: 1, 12687: 1, 5223: 1, 3944: 1, 12170: 1, 10092: 1, 1786: 1, 8482: 1, 10644: 1, 8767: 1, 16544: 1, 5299: 1, 6853: 1, 10102: 1, 11549: 1, 9123: 1, 9749: 1, 6523: 1, 7529: 1, 9139: 1, 14767: 1, 4132: 1, 12280: 1, 17218: 1, 10281: 1, 14415: 1, 16636: 1, 2397: 1, 12298: 1, 12357: 1, 10338: 1, 13814: 1, 17270: 1, 13080: 1, 6087: 1, 12678: 1, 9176: 1, 4082: 1, 11883: 1, 7936: 1, 3912: 1, 9517: 1, 10532: 1, 3894: 1, 11891: 1, 4822: 1, 964: 1, 7573: 1, 10204: 1, 8903: 1, 12233: 1, 12048: 1, 8685: 1, 6142: 1, 8351: 1, 5863: 1, 9954: 1, 9245: 1, 7540: 1, 12760: 1, 8265: 1, 8363: 1, 4003: 1, 4235: 1, 14695: 1, 10047: 1, 10024: 1, 17198: 1, 9152: 1, 6835: 1, 6126: 1, 13681: 1, 3317: 1, 491: 1, 10984: 1, 3529: 1, 4761: 1, 2659: 1, 15362: 1, 3987: 1, 2311: 1, 5915: 1, 10349: 1, 13183: 1, 727: 1, 14841: 1, 653: 1, 15765: 1, 10607: 1, 4936: 1, 10831: 1, 2495: 1, 5866: 1, 9916: 1, 11117: 1, 9868: 1, 9607: 1, 6135: 1, 7297: 1, 11953: 1, 11668: 1, 13630: 1, 3252: 1, 7244: 1, 9143: 1, 13701: 1, 6697: 1, 11449: 1, 13721: 1, 11127: 1, 9730: 1, 10502: 1, 13708: 1, 14248: 1, 11163: 1, 7442: 1, 14193: 1, 10126: 1, 13252: 1, 17167: 1, 3923: 1, 7971: 1, 14643: 1, 13028: 1, 10410: 1, 8099: 1, 3876: 1, 14043: 1, 4941: 1, 7295: 1, 7353: 1, 14212: 1, 8138: 1, 6593: 1, 14179: 1, 5936: 1, 11995: 1, 2873: 1, 9850: 1, 14544: 1, 13404: 1, 17308: 1, 15006: 1, 11584: 1, 2966: 1, 17281: 1, 4741: 1, 4648: 1, 6574: 1, 155: 1, 7524: 1, 13925: 1, 14959: 1, 7305: 1, 9715: 1, 14623: 1, 6422: 1, 1769: 1, 3221: 1, 10892: 1, 5722: 1, 3123: 1, 4506: 1, 6779: 1, 13211: 1, 8464: 1, 7403: 1, 3651: 1, 16772: 1, 11315: 1, 5995: 1, 13187: 1, 16817: 1, 2265: 1, 16314: 1, 5062: 1, 2936: 1, 10580: 1, 6913: 1, 16824: 1, 8281: 1, 5161: 1, 3860: 1, 17067: 1, 10620: 1, 11495: 1, 5443: 1, 12245: 1, 2519: 1, 8067: 1, 4541: 1, 12577: 1, 14720: 1, 10184: 1, 12299: 1, 10743: 1, 13653: 1, 12235: 1, 7405: 1, 17086: 1, 9803: 1, 4347: 1, 8264: 1, 11801: 1, 12283: 1, 16616: 1, 6177: 1, 13556: 1, 17041: 1, 2689: 1, 3270: 1, 3470: 1, 6987: 1, 3480: 1, 3715: 1, 7326: 1, 14246: 1, 12140: 1, 3131: 1, 7113: 1, 13289: 1, 9208: 1, 14861: 1, 11137: 1, 2562: 1, 6163: 1, 5205: 1, 11400: 1, 12458: 1, 3560: 1, 7167: 1, 11384: 1, 7806: 1, 12723: 1, 12721: 1, 13330: 1, 2451: 1, 4266: 1, 13311: 1, 14265: 1, 5890: 1, 8539: 1, 16881: 1, 6641: 1, 13060: 1, 5550: 1, 11598: 1, 3184: 1, 16842: 1, 5905: 1, 4088: 1, 6369: 1, 3852: 1, 17136: 1, 11361: 1, 7061: 1, 16421: 1, 4027: 1, 3699: 1, 14339: 1, 8648: 1, 7580: 1, 9451: 1, 1117: 1, 7669: 1, 6780: 1, 15393: 1, 4448: 1, 8756: 1, 8935: 1, 4572: 1, 10010: 1, 8659: 1, 6023: 1, 2330: 1, 8714: 1, 13498: 1, 3399: 1, 17023: 1, 15436: 1, 4195: 1, 9927: 1, 6328: 1, 11404: 1, 17217: 1, 7668: 1, 7630: 1, 8486: 1, 3276: 1, 11089: 1, 244: 1, 16324: 1, 15618: 1, 5180: 1, 6982: 1, 14656: 1, 7487: 1, 6463: 1, 5395: 1, 6137: 1, 15427: 1, 1888: 1, 2948: 1, 14087: 1, 5264: 1, 5047: 1, 869: 1, 15439: 1, 13892: 1, 13359: 1, 11200: 1, 13822: 1, 4202: 1, 3566: 1, 7214: 1, 302: 1, 15716: 1, 4251: 1, 7574: 1, 2386: 1, 15388: 1, 7365: 1, 4422: 1, 3060: 1, 6752: 1, 1091: 1, 2632: 1, 15676: 1, 16715: 1, 3122: 1, 15407: 1, 8735: 1, 4410: 1, 16888: 1, 14182: 1, 12643: 1, 3993: 1, 9300: 1, 10169: 1, 16785: 1, 12835: 1, 16546: 1, 4293: 1, 2603: 1, 2013: 1, 12696: 1, 13762: 1, 6898: 1, 1551: 1, 2652: 1, 15500: 1, 14588: 1, 4565: 1, 16077: 1, 5079: 1, 16137: 1, 16171: 1, 1940: 1, 12053: 1, 9222: 1, 16504: 1, 6068: 1, 8542: 1, 15223: 1, 9930: 1, 6332: 1, 14201: 1, 4144: 1, 15876: 1, 7884: 1, 4575: 1, 13667: 1, 8795: 1, 13738: 1, 4054: 1, 7626: 1, 13612: 1, 3564: 1, 11648: 1, 10609: 1, 17228: 1, 2004: 1, 14694: 1, 3337: 1, 3139: 1, 2152: 1, 14742: 1, 3349: 1, 5053: 1, 14860: 1, 5813: 1, 5280: 1, 13031: 1, 7853: 1, 14121: 1, 3295: 1, 5696: 1, 14715: 1, 3224: 1, 15792: 1, 4990: 1, 1385: 1, 15424: 1, 15336: 1, 11077: 1, 14190: 1, 5837: 1, 14751: 1, 3591: 1, 5605: 1, 8864: 1, 13954: 1, 6770: 1, 4766: 1, 3527: 1, 17221: 1, 15745: 1, 8041: 1, 16941: 1, 3478: 1, 3258: 1, 3942: 1, 3003: 1, 17149: 1, 13510: 1, 15431: 1, 4552: 1, 15515: 1, 8305: 1, 7536: 1, 15096: 1, 14639: 1, 17120: 1, 4876: 1, 1594: 1, 6043: 1, 16982: 1, 15323: 1, 3178: 1, 7954: 1, 9443: 1, 16773: 1, 4632: 1, 5434: 1, 16285: 1, 3228: 1, 17254: 1, 11119: 1, 13402: 1, 4891: 1, 16825: 1, 17101: 1, 3948: 1, 4305: 1, 14622: 1, 9326: 1, 4294: 1, 9008: 1, 2647: 1, 4425: 1, 4549: 1, 4930: 1})\n"
     ]
    }
   ],
   "source": [
    "import collections\n",
    "\n",
    "counter = collections.Counter(ranks)\n",
    "print(counter)\n"
   ]
  },
  {
   "cell_type": "code",
   "execution_count": 25,
   "id": "ed87f964",
   "metadata": {},
   "outputs": [
    {
     "name": "stdout",
     "output_type": "stream",
     "text": [
      "Document (17352): «»\n",
      "\n",
      "SIMILAR/DISSIMILAR DOCS PER MODEL Doc2Vec<dm/m,d50,n5,w5,s0.001,t3>:\n",
      "\n",
      "MOST (13135, 0.5755646824836731): «»\n",
      "\n",
      "SECOND-MOST (12236, 0.4984537661075592): «»\n",
      "\n",
      "MEDIAN (5345, 0.00955571886152029): «participants had answer the question what extent you»\n",
      "\n",
      "LEAST (17040, -0.47294923663139343): «narratology has»\n",
      "\n"
     ]
    }
   ],
   "source": [
    "print('Document ({}): «{}»\\n'.format(doc_id, ' '.join(trainCorpus[doc_id].words)))\n",
    "print(u'SIMILAR/DISSIMILAR DOCS PER MODEL %s:\\n' % model)\n",
    "for label, index in [('MOST', 0), ('SECOND-MOST', 1), ('MEDIAN', len(sims)//2), ('LEAST', len(sims) - 1)]:\n",
    "    print(u'%s %s: «%s»\\n' % (label, sims[index], ' '.join(trainCorpus[sims[index][0]].words)))"
   ]
  }
 ],
 "metadata": {
  "kernelspec": {
   "display_name": "Python 3 (ipykernel)",
   "language": "python",
   "name": "python3"
  },
  "language_info": {
   "codemirror_mode": {
    "name": "ipython",
    "version": 3
   },
   "file_extension": ".py",
   "mimetype": "text/x-python",
   "name": "python",
   "nbconvert_exporter": "python",
   "pygments_lexer": "ipython3",
   "version": "3.10.6"
  }
 },
 "nbformat": 4,
 "nbformat_minor": 5
}
