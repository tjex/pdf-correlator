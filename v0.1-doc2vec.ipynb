{
 "cells": [
  {
   "cell_type": "code",
   "execution_count": 1,
   "id": "2be4fc2b",
   "metadata": {},
   "outputs": [],
   "source": [
    "import os, glob, re, io, random, gensim\n",
    "import numpy as np\n",
    "\n",
    "from PyPDF2 import PdfReader\n",
    "from gensim.models.doc2vec import Doc2Vec, TaggedDocument\n",
    "from nltk.tokenize import word_tokenize\n"
   ]
  },
  {
   "cell_type": "code",
   "execution_count": 2,
   "id": "bbe3607a",
   "metadata": {},
   "outputs": [],
   "source": [
    "pdfReaders = []\n",
    "pdfFiles = []\n",
    "data = []\n",
    "docLabels = []\n",
    "wordSets = []\n",
    "\n",
    "rootDir = \"/Users/tillman/t-root/dev/projects/2022/pdf-correlator/gitignored\"\n",
    "txtExtractDir = \"/Users/tillman/t-root/dev/projects/2022/pdf-correlator/gitignored/txt-extractions/\""
   ]
  },
  {
   "cell_type": "code",
   "execution_count": 7,
   "id": "e152ac18",
   "metadata": {},
   "outputs": [],
   "source": [
    "# read files and extract to .txt files\n",
    "def read_files():\n",
    "    os.chdir(rootDir)\n",
    "    for file in glob.glob(\"**/*.pdf\"):\n",
    "        pdfFiles.append(file)\n",
    "        pdfReaders.append(PdfReader(file))\n",
    "    print(\"pdf files read\")\n",
    "        \n",
    "def extract_to_txt():\n",
    "    os.chdir(txtExtractDir)\n",
    "    for i in pdfReaders:\n",
    "        with open(i.metadata.title + \".txt\", 'w', encoding=\"utf-8\") as file:\n",
    "            \n",
    "            # add doc title to array for tagging\n",
    "            docLabels.append(i.metadata.title)\n",
    "            \n",
    "            for j in range(0, len(i.pages)):\n",
    "                # create a text file for future reference / future use\n",
    "                file.write(i.getPage(j).extract_text())                   \n",
    "                \n",
    "    print(\"text extraction complete\")\n",
    "    \n",
    "    \n",
    "def clean_tag_tokenize():\n",
    "\n",
    "    for doc in docLabels:\n",
    "        words = open(open(docLabels[do + '.txt').read()\n",
    "        words = words.replace(\"\\n\", \" \")\n",
    "        words = words.replace(\"  \", \" \")\n",
    "        words = words.lower()\n",
    "        words = ''.join([i for i in words if i.isalpha() or i.isspace() or (i in '.!?:\"')])\n",
    "        words = words.replace(\".\", \" . \")\n",
    "        words = words.replace(\"!\", \" ! \")\n",
    "        words = words.replace(\"?\", \" ? \")\n",
    "        words = words.replace(\":\", \" : \")\n",
    "        words = words.replace('\"', ' \" ')\n",
    "        words = words.split()\n",
    "        \n",
    "        wordSets.append(words)\n",
    "\n",
    "        print(wordSets[0])\n"
   ]
  },
  {
   "cell_type": "code",
   "execution_count": 4,
   "id": "1bb97e46",
   "metadata": {},
   "outputs": [
    {
     "name": "stdout",
     "output_type": "stream",
     "text": [
      "pdf files read\n"
     ]
    }
   ],
   "source": [
    "read_files()"
   ]
  },
  {
   "cell_type": "code",
   "execution_count": 5,
   "id": "cd81c396",
   "metadata": {},
   "outputs": [
    {
     "name": "stdout",
     "output_type": "stream",
     "text": [
      "text extraction complete\n"
     ]
    }
   ],
   "source": [
    "extract_to_txt()"
   ]
  },
  {
   "cell_type": "code",
   "execution_count": 8,
   "id": "a1f9c437",
   "metadata": {},
   "outputs": [
    {
     "ename": "TypeError",
     "evalue": "can only concatenate list (not \"TextStringObject\") to list",
     "output_type": "error",
     "traceback": [
      "\u001b[0;31m---------------------------------------------------------------------------\u001b[0m",
      "\u001b[0;31mTypeError\u001b[0m                                 Traceback (most recent call last)",
      "Cell \u001b[0;32mIn [8], line 1\u001b[0m\n\u001b[0;32m----> 1\u001b[0m \u001b[43mclean_tag_tokenize\u001b[49m\u001b[43m(\u001b[49m\u001b[43m)\u001b[49m\n",
      "Cell \u001b[0;32mIn [7], line 27\u001b[0m, in \u001b[0;36mclean_tag_tokenize\u001b[0;34m()\u001b[0m\n\u001b[1;32m     24\u001b[0m \u001b[38;5;28;01mdef\u001b[39;00m \u001b[38;5;21mclean_tag_tokenize\u001b[39m():\n\u001b[1;32m     26\u001b[0m     \u001b[38;5;28;01mfor\u001b[39;00m doc \u001b[38;5;129;01min\u001b[39;00m docLabels:\n\u001b[0;32m---> 27\u001b[0m         words \u001b[38;5;241m=\u001b[39m \u001b[38;5;28mopen\u001b[39m(\u001b[38;5;28mopen\u001b[39m(\u001b[43mdocLabels\u001b[49m\u001b[43m \u001b[49m\u001b[38;5;241;43m+\u001b[39;49m\u001b[43m \u001b[49m\u001b[43mdoc\u001b[49m) \u001b[38;5;241m+\u001b[39m \u001b[38;5;124m'\u001b[39m\u001b[38;5;124m.txt\u001b[39m\u001b[38;5;124m'\u001b[39m)\u001b[38;5;241m.\u001b[39mread()\n\u001b[1;32m     28\u001b[0m         words \u001b[38;5;241m=\u001b[39m words\u001b[38;5;241m.\u001b[39mreplace(\u001b[38;5;124m\"\u001b[39m\u001b[38;5;130;01m\\n\u001b[39;00m\u001b[38;5;124m\"\u001b[39m, \u001b[38;5;124m\"\u001b[39m\u001b[38;5;124m \u001b[39m\u001b[38;5;124m\"\u001b[39m)\n\u001b[1;32m     29\u001b[0m         words \u001b[38;5;241m=\u001b[39m words\u001b[38;5;241m.\u001b[39mreplace(\u001b[38;5;124m\"\u001b[39m\u001b[38;5;124m  \u001b[39m\u001b[38;5;124m\"\u001b[39m, \u001b[38;5;124m\"\u001b[39m\u001b[38;5;124m \u001b[39m\u001b[38;5;124m\"\u001b[39m)\n",
      "\u001b[0;31mTypeError\u001b[0m: can only concatenate list (not \"TextStringObject\") to list"
     ]
    }
   ],
   "source": [
    "clean_tag_tokenize()"
   ]
  },
  {
   "cell_type": "code",
   "execution_count": null,
   "id": "5440db9d",
   "metadata": {},
   "outputs": [],
   "source": []
  }
 ],
 "metadata": {
  "kernelspec": {
   "display_name": "Python 3 (ipykernel)",
   "language": "python",
   "name": "python3"
  },
  "language_info": {
   "codemirror_mode": {
    "name": "ipython",
    "version": 3
   },
   "file_extension": ".py",
   "mimetype": "text/x-python",
   "name": "python",
   "nbconvert_exporter": "python",
   "pygments_lexer": "ipython3",
   "version": "3.10.6"
  }
 },
 "nbformat": 4,
 "nbformat_minor": 5
}
